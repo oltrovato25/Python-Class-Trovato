{
  "nbformat": 4,
  "nbformat_minor": 0,
  "metadata": {
    "colab": {
      "provenance": []
    },
    "kernelspec": {
      "name": "python3",
      "display_name": "Python 3"
    },
    "language_info": {
      "name": "python"
    }
  },
  "cells": [
    {
      "cell_type": "markdown",
      "source": [
        "#### Last couple of features of lists before we proceed to conditional statements"
      ],
      "metadata": {
        "id": "eAW3uS5Rofvi"
      }
    },
    {
      "cell_type": "code",
      "source": [
        "# range() is a function that generates a sequence of numbers\n",
        "\n",
        "nums = list(range(5))\n",
        "print(nums)\n",
        "\n",
        "nums1 = list(range(5,16))\n",
        "print(\"\\nThis is the second list\", nums1)\n",
        "\n",
        "nums2 = list(range(0,100,10))\n",
        "print(\"\\nThis is the third list\", nums2)"
      ],
      "metadata": {
        "colab": {
          "base_uri": "https://localhost:8080/"
        },
        "id": "bx6dgLNgoey5",
        "outputId": "ea13a3d8-9b25-4aa8-e588-cd082224f7f0"
      },
      "execution_count": null,
      "outputs": [
        {
          "output_type": "stream",
          "name": "stdout",
          "text": [
            "[0, 1, 2, 3, 4]\n",
            "\n",
            "This is the second list [5, 6, 7, 8, 9, 10, 11, 12, 13, 14, 15]\n",
            "\n",
            "This is the third list [0, 10, 20, 30, 40, 50, 60, 70, 80, 90]\n"
          ]
        }
      ]
    },
    {
      "cell_type": "markdown",
      "source": [
        "### Slicing Lists"
      ],
      "metadata": {
        "id": "NQEcSOQPrhqK"
      }
    },
    {
      "cell_type": "code",
      "source": [
        "nums = list(range(0,100,5))\n",
        "print(\"Original list: \", nums)\n",
        "print('\\nFirst 3 elements of list:', nums[0:3]) # print 0,1,2 index. Upto 3, not including 3.\n",
        "print('\\nEverything 4th element onwards:', nums[4:])\n",
        "print('\\nLast item of list:', nums[-1])\n",
        "print('\\nBackwards list smun:', nums[::-1])\n",
        "print('\\nFirst up till 5th element with step-size 2:', nums[1:5:2])"
      ],
      "metadata": {
        "colab": {
          "base_uri": "https://localhost:8080/"
        },
        "id": "AEQQVHO9pTDZ",
        "outputId": "25a7c936-aa82-43a3-ab34-88abb6af8784"
      },
      "execution_count": null,
      "outputs": [
        {
          "output_type": "stream",
          "name": "stdout",
          "text": [
            "Original list:  [0, 5, 10, 15, 20, 25, 30, 35, 40, 45, 50, 55, 60, 65, 70, 75, 80, 85, 90, 95]\n",
            "\n",
            "First 3 elements of list: [0, 5, 10]\n",
            "\n",
            "Everything 4th element onwards: [20, 25, 30, 35, 40, 45, 50, 55, 60, 65, 70, 75, 80, 85, 90, 95]\n",
            "\n",
            "Last item of list: 95\n",
            "\n",
            "Backwards list smun: [95, 90, 85, 80, 75, 70, 65, 60, 55, 50, 45, 40, 35, 30, 25, 20, 15, 10, 5, 0]\n",
            "\n",
            "First up till 5th element with step-size 2: [5, 15]\n"
          ]
        }
      ]
    },
    {
      "cell_type": "markdown",
      "source": [
        "## Conditional Statements, Looping"
      ],
      "metadata": {
        "id": "ORa1EpDTz9Wb"
      }
    },
    {
      "cell_type": "code",
      "execution_count": null,
      "metadata": {
        "id": "qjvFQuHmz20-"
      },
      "outputs": [],
      "source": [
        "'''The BDFL (Benevolent Dictator for Life) has a good sense of humor. Each package that you install needs to be imported before you can use it.\n",
        "# Look what happens when you import a package called 'this'. It prints the Zen of Python - a rulebook for writing IF statements'''\n",
        "\n",
        "import this"
      ]
    },
    {
      "cell_type": "markdown",
      "source": [
        "## Let us start with IF loops.\n",
        "\n",
        "Before that, we need to understand Indentation in Python\n",
        "\n",
        "Indentation has a very specific role in Python and is important!\n",
        "\n",
        "It is used as alternative to parenthesis, and getting it wrong will cause errors.\n",
        "IF Statements and Indentation\n",
        "- The syntax for control structures in Python use _colons_ and _indentation_."
      ],
      "metadata": {
        "id": "6vChUFZQSrk7"
      }
    },
    {
      "cell_type": "markdown",
      "source": [
        "\n",
        "```\n",
        "# This is formatted as code\n",
        "\n",
        "if condition1:\n",
        "  do something\n",
        "elif condition2:\n",
        "  do something else\n",
        "else:\n",
        "  do this last thing\n",
        "```\n",
        "\n",
        "\n"
      ],
      "metadata": {
        "id": "DZwXfQkHqCMN"
      }
    },
    {
      "cell_type": "code",
      "source": [
        "y = -2\n",
        "x = 10\n",
        "if x > 0:\n",
        "    print ('x is strictly positive')\n",
        "    print (x)\n",
        "# print ('Finished.', x, y)\n",
        "\n",
        "if y < 0:\n",
        "    print ('y is strictly negative, its value is: ', y)\n",
        "    print (y)"
      ],
      "metadata": {
        "colab": {
          "base_uri": "https://localhost:8080/"
        },
        "id": "6Rjygzf90TG_",
        "outputId": "c236fa64-02b2-42f3-cd46-4c3e1487de35"
      },
      "execution_count": null,
      "outputs": [
        {
          "output_type": "stream",
          "name": "stdout",
          "text": [
            "x is strictly positive\n",
            "10\n",
            "y is strictly negative, its value is:  -2\n",
            "-2\n"
          ]
        }
      ]
    },
    {
      "cell_type": "code",
      "source": [
        "print(\"What is the temperature outside?\")\n",
        "temperature = int(input())\n",
        "\n",
        "if temperature < -10 or temperature > 30:\n",
        "    print(\"Extreme weather of\", temperature, \"degrees Celsius\")\n",
        "\n",
        "print(\"What is the price of this item?\")\n",
        "value = int(input())\n",
        "\n",
        "if not value > 10:\n",
        "    print(\"value not greater than 10\")\n",
        "\n",
        "print(\"What is your age?\")\n",
        "age = int(input())\n",
        "\n",
        "print(\"What country do you belong to?\")\n",
        "country = input()\n",
        "\n",
        "if int(age) >= 18 and country == \"Germany\":\n",
        "    print(\"You may drink alcohol\")"
      ],
      "metadata": {
        "colab": {
          "base_uri": "https://localhost:8080/"
        },
        "id": "O9HcHjyVFuX5",
        "outputId": "068d6353-8e99-463e-df15-feb37d85a6c8"
      },
      "execution_count": null,
      "outputs": [
        {
          "name": "stdout",
          "output_type": "stream",
          "text": [
            "What is the temperature outside?\n",
            "25\n",
            "What is the price of this item?\n",
            "15\n",
            "What is your age?\n",
            "25\n",
            "What country do you belong to?\n",
            "USA\n"
          ]
        }
      ]
    },
    {
      "cell_type": "markdown",
      "source": [
        "## Conditional Statements\n",
        "\n",
        "- `if` statements enable logic.\n",
        "- `elif` give additional conditions.\n",
        "- `else` gives what to do if other conditions are not met."
      ],
      "metadata": {
        "id": "HPzNwehsT4PZ"
      }
    },
    {
      "cell_type": "code",
      "source": [
        "purchase = float(input(\"Price at which you purchased bitcoin: \"))\n",
        "current = float (input (\"Current price of bitcoin: \"))\n",
        "\n",
        "if current < purchase*1.2 and current >= purchase:\n",
        "  print(\"Consider holding on a bit longer as your profit is only \", current - purchase,  \"$ per bitcoin.\")\n",
        "elif current >= purchase*1.2:\n",
        "  print(\"Worth selling as you will make\", current - purchase, \"$ per bitcoin.\")\n",
        "else:\n",
        "  print('Not worth selling right now. Your loss is: $', current - purchase, ' per bitcoin.')"
      ],
      "metadata": {
        "colab": {
          "base_uri": "https://localhost:8080/"
        },
        "id": "2fYWil2NrqXN",
        "outputId": "ec5a678c-b80e-4d55-aa0c-52d9dda19b2e"
      },
      "execution_count": null,
      "outputs": [
        {
          "output_type": "stream",
          "name": "stdout",
          "text": [
            "Price at which you have purchased bitcoin: 500\n",
            "Current price of the bitcoin: 600\n",
            "Worth selling as you will make 100.0 $ per bitcoin.\n"
          ]
        }
      ]
    },
    {
      "cell_type": "code",
      "source": [
        "x = 1\n",
        "y = 0\n",
        "if x > 0:\n",
        "    print ('x is greater than 0')\n",
        "    if y > 0:\n",
        "        print ('& y is also greater than 0')\n",
        "    elif y<0:\n",
        "        print ('& y is less than 0')\n",
        "    else:\n",
        "        print ('& y is equal to 0')\n",
        "print (\"x: \",x)\n",
        "print ('Finished.')"
      ],
      "metadata": {
        "colab": {
          "base_uri": "https://localhost:8080/"
        },
        "id": "b-QLL_A61IDY",
        "outputId": "ebdac1c9-2b74-4936-c49d-5782c29ce8fa"
      },
      "execution_count": null,
      "outputs": [
        {
          "output_type": "stream",
          "name": "stdout",
          "text": [
            "x:  -11\n",
            "Finished.\n"
          ]
        }
      ]
    },
    {
      "cell_type": "code",
      "source": [
        "x = 1\n",
        "y = 0\n",
        "if x > 0:\n",
        "    print ('x is greater than 0')\n",
        "if y > 0:\n",
        "    print ('& y is also greater than 0')\n",
        "elif y<0:\n",
        "    print ('& y is less than 0')\n",
        "else:\n",
        "    print ('& y is equal to 0')\n",
        "print (\"x: \",x)\n",
        "print ('Finished.')"
      ],
      "metadata": {
        "colab": {
          "base_uri": "https://localhost:8080/"
        },
        "id": "Wh88feGZwLsi",
        "outputId": "76be9570-bc09-4991-dbfe-1fdcb3df9d4e"
      },
      "execution_count": null,
      "outputs": [
        {
          "output_type": "stream",
          "name": "stdout",
          "text": [
            "& y is equal to 0\n",
            "x:  -11\n",
            "Finished.\n"
          ]
        }
      ]
    },
    {
      "cell_type": "markdown",
      "source": [
        "# Try printing each of these. Play around with the value of x\n",
        "\n"
      ],
      "metadata": {
        "id": "xU8JG5tNIMLn"
      }
    },
    {
      "cell_type": "code",
      "source": [
        "x = 4\n",
        "x != 5\n",
        "x > 0\n",
        "x==5"
      ],
      "metadata": {
        "colab": {
          "base_uri": "https://localhost:8080/"
        },
        "id": "9pSOq_NwILTo",
        "outputId": "6c902131-9357-4aa2-aa7f-bc7ebb812a78"
      },
      "execution_count": null,
      "outputs": [
        {
          "output_type": "execute_result",
          "data": {
            "text/plain": [
              "False"
            ]
          },
          "metadata": {},
          "execution_count": 24
        }
      ]
    },
    {
      "cell_type": "markdown",
      "source": [
        "## Python Conditionals (Alt Syntax)"
      ],
      "metadata": {
        "id": "J8qn5jpnJpku"
      }
    },
    {
      "cell_type": "code",
      "source": [
        "x=0\n",
        "z = 5 if x > 0 else 0\n",
        "print(z)"
      ],
      "metadata": {
        "id": "1341t7l4ILbM"
      },
      "execution_count": null,
      "outputs": []
    },
    {
      "cell_type": "code",
      "source": [
        "# This is a form of if statement called ternary conditional operator\n",
        "x=1\n",
        "#The first value is the value if the conditional is false\n",
        "z=(0, 5)[x>0]\n",
        "print(z)"
      ],
      "metadata": {
        "id": "7uxSr-yhILdg"
      },
      "execution_count": null,
      "outputs": []
    },
    {
      "cell_type": "markdown",
      "source": [
        "## FOR Statement\n",
        "\n",
        "Enables us to iterate over contents of lists."
      ],
      "metadata": {
        "id": "gGK-citbRPY-"
      }
    },
    {
      "cell_type": "code",
      "source": [
        "#Here we are iterating on lists.\n",
        "sum=0\n",
        "for ad in [10, 2, 36]:\n",
        "    sum+=ad    #This is short hand for sum = sum+ad\n",
        "    print(sum)\n",
        "\n",
        "for country in ['England', 'Spain', 'India']:\n",
        "    print(country)"
      ],
      "metadata": {
        "id": "w9ZucU9sILf2",
        "colab": {
          "base_uri": "https://localhost:8080/"
        },
        "outputId": "daca4b09-2a65-45ae-9a7b-47ec213b7b82"
      },
      "execution_count": null,
      "outputs": [
        {
          "output_type": "stream",
          "name": "stdout",
          "text": [
            "10\n",
            "12\n",
            "48\n",
            "England\n",
            "Spain\n",
            "India\n"
          ]
        }
      ]
    },
    {
      "cell_type": "code",
      "source": [
        "products = [\"banana\", \"apple\", \"squash\"]\n",
        "\n",
        "for item in products:\n",
        "    print(\"Our best selling product this week is, \" + item + \"!\")"
      ],
      "metadata": {
        "colab": {
          "base_uri": "https://localhost:8080/"
        },
        "id": "X7F831kCwb3A",
        "outputId": "90a19430-fbb6-44cd-9ce8-3539c48048fe"
      },
      "execution_count": null,
      "outputs": [
        {
          "output_type": "stream",
          "name": "stdout",
          "text": [
            "Our best selling product this week is, banana!\n",
            "Our best selling product this week is, apple!\n",
            "Our best selling product this week is, squash!\n"
          ]
        }
      ]
    },
    {
      "cell_type": "code",
      "source": [
        "x=[0,1,2]\n",
        "y=['a','b','c','j']\n",
        "#Nested for loops\n",
        "for d in x:\n",
        "    for f in y:\n",
        "        print(d,f)"
      ],
      "metadata": {
        "id": "R7ANRkUwILid",
        "colab": {
          "base_uri": "https://localhost:8080/"
        },
        "outputId": "da803781-e654-45bb-e403-8c59132e0e81"
      },
      "execution_count": null,
      "outputs": [
        {
          "output_type": "stream",
          "name": "stdout",
          "text": [
            "0 a\n",
            "0 b\n",
            "0 c\n",
            "0 j\n",
            "1 a\n",
            "1 b\n",
            "1 c\n",
            "1 j\n",
            "2 a\n",
            "2 b\n",
            "2 c\n",
            "2 j\n"
          ]
        }
      ]
    },
    {
      "cell_type": "code",
      "source": [
        "for i in range(10):\n",
        "    print(i*3)"
      ],
      "metadata": {
        "colab": {
          "base_uri": "https://localhost:8080/"
        },
        "id": "7KmuC9ORvHz_",
        "outputId": "93b08e41-9e0b-4c75-f67e-f6705aaac8f3"
      },
      "execution_count": null,
      "outputs": [
        {
          "output_type": "stream",
          "name": "stdout",
          "text": [
            "0\n",
            "3\n",
            "6\n",
            "9\n",
            "12\n",
            "15\n",
            "18\n",
            "21\n",
            "24\n",
            "27\n"
          ]
        }
      ]
    },
    {
      "cell_type": "code",
      "source": [
        "multiple_three = []\n",
        "for i in range(11):\n",
        "  multiple_three.append(i*3)\n",
        "  print(multiple_three)"
      ],
      "metadata": {
        "colab": {
          "base_uri": "https://localhost:8080/"
        },
        "id": "22kbS8UHI9KE",
        "outputId": "b423af8c-b037-40b7-888a-2803671eb1c0"
      },
      "execution_count": null,
      "outputs": [
        {
          "output_type": "stream",
          "name": "stdout",
          "text": [
            "[0]\n",
            "[0, 3]\n",
            "[0, 3, 6]\n",
            "[0, 3, 6, 9]\n",
            "[0, 3, 6, 9, 12]\n",
            "[0, 3, 6, 9, 12, 15]\n",
            "[0, 3, 6, 9, 12, 15, 18]\n",
            "[0, 3, 6, 9, 12, 15, 18, 21]\n",
            "[0, 3, 6, 9, 12, 15, 18, 21, 24]\n",
            "[0, 3, 6, 9, 12, 15, 18, 21, 24, 27]\n",
            "[0, 3, 6, 9, 12, 15, 18, 21, 24, 27, 30]\n"
          ]
        }
      ]
    },
    {
      "cell_type": "code",
      "source": [
        "#Range is a built in function that can be passed to a for loop\n",
        "#https://docs.python.org/3/library/functions.html#func-range\n",
        "#Range accepts a number and a (start/stop/step) like the arrange command.\n",
        "z=range(5)\n",
        "# print(z, type(z))\n",
        "#Range\n",
        "for i in z:\n",
        "    print('Print five')\n",
        "for i in range(4):\n",
        "    print('Print four more')\n",
        "for i in range(5,20,2):\n",
        "    print('i: %d is the value' % (i))\n",
        "    # print(f'i:{i}  is the 2nd value' ) #This is an alternate way of embedding values in text."
      ],
      "metadata": {
        "id": "PK8CKby7ILlU",
        "colab": {
          "base_uri": "https://localhost:8080/"
        },
        "outputId": "9f92ccc4-94b9-44e6-f810-dd0e91974712"
      },
      "execution_count": null,
      "outputs": [
        {
          "output_type": "stream",
          "name": "stdout",
          "text": [
            "Print five\n",
            "Print five\n",
            "Print five\n",
            "Print five\n",
            "Print five\n",
            "Print four more\n",
            "Print four more\n",
            "Print four more\n",
            "Print four more\n",
            "i: 5 is the value\n",
            "i: 7 is the value\n",
            "i: 9 is the value\n",
            "i: 11 is the value\n",
            "i: 13 is the value\n",
            "i: 15 is the value\n",
            "i: 17 is the value\n",
            "i: 19 is the value\n"
          ]
        }
      ]
    },
    {
      "cell_type": "code",
      "execution_count": null,
      "metadata": {
        "id": "wJw7qHU-RDuj",
        "outputId": "10415171-119e-43ca-a8bf-938c7e461913",
        "colab": {
          "base_uri": "https://localhost:8080/"
        }
      },
      "outputs": [
        {
          "output_type": "execute_result",
          "data": {
            "text/plain": [
              "[25, 36, 49, 64, 81, 100, 121, 144, 169, 196]"
            ]
          },
          "metadata": {},
          "execution_count": 15
        }
      ],
      "source": [
        "#This is the long way of building lists.\n",
        "L = []\n",
        "for n in range(5,15):\n",
        "    L.append(n ** 2)\n",
        "L"
      ]
    },
    {
      "cell_type": "code",
      "execution_count": null,
      "metadata": {
        "id": "rx6DWngLRDuj",
        "outputId": "758cd5f7-aa66-4f46-f764-7559b317d021",
        "colab": {
          "base_uri": "https://localhost:8080/"
        }
      },
      "outputs": [
        {
          "output_type": "execute_result",
          "data": {
            "text/plain": [
              "[25, 36, 49, 64, 81, 100, 121, 144, 169, 196]"
            ]
          },
          "metadata": {},
          "execution_count": 16
        }
      ],
      "source": [
        "#With list comprehension.\n",
        "L=[n ** 2 for n in range(5,15)]\n",
        "L"
      ]
    },
    {
      "cell_type": "code",
      "source": [
        "# Print all negative numbers in a list\n",
        "\n",
        "mylist = [2, 5, -3, 8, 1, -5, -8]\n",
        "neglist = []\n",
        "for i in mylist:\n",
        "    if i < 0:\n",
        "        neglist.append(i)\n",
        "print(neglist)\n",
        "\n",
        "\n",
        "# With list comprehensions\n",
        "neglist2 = [i for i in mylist if i < 0]\n",
        "print(neglist2)"
      ],
      "metadata": {
        "colab": {
          "base_uri": "https://localhost:8080/"
        },
        "id": "7IhMp3JpxeWZ",
        "outputId": "53a7ea0d-c395-4557-960e-1121faa29ad6"
      },
      "execution_count": null,
      "outputs": [
        {
          "output_type": "stream",
          "name": "stdout",
          "text": [
            "[-3, -5, -8]\n",
            "[-3, -5, -8]\n"
          ]
        }
      ]
    },
    {
      "cell_type": "code",
      "execution_count": null,
      "metadata": {
        "id": "mYqcDLVVRDuj",
        "outputId": "655801d8-28aa-49a0-9a5a-36d643befead"
      },
      "outputs": [
        {
          "data": {
            "text/plain": [
              "[0, 3, 6, 9, 12, 15, 18]"
            ]
          },
          "execution_count": 28,
          "metadata": {},
          "output_type": "execute_result"
        }
      ],
      "source": [
        "#Any actions are on left side, any conditionals on right side\n",
        "[i for i in range(20) if i % 3 == 0]"
      ]
    },
    {
      "cell_type": "markdown",
      "metadata": {
        "id": "59cIXdk8RDuj"
      },
      "source": [
        "### Multiple Interators\n",
        "- Iterating on multiple values"
      ]
    },
    {
      "cell_type": "code",
      "execution_count": null,
      "metadata": {
        "id": "Bkv96wvnRDuj",
        "outputId": "b66c002c-a8ae-4da6-908a-21f5b96272d0"
      },
      "outputs": [
        {
          "data": {
            "text/plain": [
              "[(0, 0), (0, 1), (0, 2), (1, 0), (1, 1), (1, 2)]"
            ]
          },
          "execution_count": 29,
          "metadata": {},
          "output_type": "execute_result"
        }
      ],
      "source": [
        "[(i, j) for i in range(2) for j in range(3)]"
      ]
    },
    {
      "cell_type": "markdown",
      "metadata": {
        "id": "puZ7W8vdRDuk"
      },
      "source": [
        "### Dictionary Comprehension\n"
      ]
    },
    {
      "cell_type": "code",
      "execution_count": null,
      "metadata": {
        "id": "ohkWLtUyRDul",
        "outputId": "1f039d97-5646-4d6c-dfe3-d762f459e947"
      },
      "outputs": [
        {
          "data": {
            "text/plain": [
              "{0: 0, 1: 1, 2: 4, 3: 9, 4: 16, 5: 25}"
            ]
          },
          "execution_count": 30,
          "metadata": {},
          "output_type": "execute_result"
        }
      ],
      "source": [
        "#We can change it to a dictionary by just changing the brackets and adding a colon.\n",
        "{n:n**2 for n in range(6)}"
      ]
    },
    {
      "cell_type": "markdown",
      "metadata": {
        "id": "Bbpfsn13RDul"
      },
      "source": [
        "## While Loops\n",
        "- Performs a loop while a conditional is True.\n",
        "- Doesn't auto-increment.\n"
      ]
    },
    {
      "cell_type": "code",
      "execution_count": null,
      "metadata": {
        "id": "iuPFnLsqRDul",
        "outputId": "90f10d42-742a-41da-ef26-99707700b86d"
      },
      "outputs": [
        {
          "name": "stdout",
          "output_type": "stream",
          "text": [
            "Printing x= 1 sum= 0\n",
            "Printing x= 2 sum= 10\n",
            "Printing x= 3 sum= 20\n",
            "Printing x= 4 sum= 30\n",
            "Printing x= 5 sum= 40\n",
            "Printing x= 6 sum= 50\n",
            "Printing x= 7 sum= 60\n",
            "Printing x= 8 sum= 70\n",
            "Printing x= 9 sum= 80\n"
          ]
        }
      ],
      "source": [
        "x = 1\n",
        "sum=0\n",
        "while x<10:\n",
        "    print (\"Printing x= %d sum= %d\" % (x, sum))\n",
        "    x += 1\n",
        "    sum+=10"
      ]
    },
    {
      "cell_type": "code",
      "source": [
        "a = 1\n",
        "while a<2000:\n",
        "  print(a)\n",
        "  a = a*2"
      ],
      "metadata": {
        "colab": {
          "base_uri": "https://localhost:8080/"
        },
        "id": "4gaHYGtS8td8",
        "outputId": "a41f3e47-7e22-4592-f1f1-2a4563492069"
      },
      "execution_count": null,
      "outputs": [
        {
          "output_type": "stream",
          "name": "stdout",
          "text": [
            "1\n",
            "2\n",
            "4\n",
            "8\n",
            "16\n",
            "32\n",
            "64\n",
            "128\n",
            "256\n",
            "512\n",
            "1024\n"
          ]
        }
      ]
    },
    {
      "cell_type": "code",
      "source": [
        "a = 1\n",
        "\n",
        "while True:\n",
        "    a = a * 2\n",
        "    print(a)\n",
        "    if (a > 1000):\n",
        "        break"
      ],
      "metadata": {
        "id": "gzm0qnZd99Mz",
        "outputId": "c7931a2c-63a6-4c89-d8c2-83ed3369dc5a",
        "colab": {
          "base_uri": "https://localhost:8080/"
        }
      },
      "execution_count": null,
      "outputs": [
        {
          "output_type": "stream",
          "name": "stdout",
          "text": [
            "2\n",
            "4\n",
            "8\n",
            "16\n",
            "32\n",
            "64\n",
            "128\n",
            "256\n",
            "512\n",
            "1024\n"
          ]
        }
      ]
    },
    {
      "cell_type": "code",
      "source": [
        "n = 0\n",
        "while True: # execute indefinitely print (\"Executing while loop\")\n",
        "  if n == 5: # stop loop if n is 5\n",
        "    break\n",
        "  n = n + 1\n",
        "  print (\"Finished while loop\", n)\n"
      ],
      "metadata": {
        "colab": {
          "base_uri": "https://localhost:8080/"
        },
        "id": "peq39ODYD8NO",
        "outputId": "cd2ec8e2-97fa-4d02-f99a-0463cf792052"
      },
      "execution_count": null,
      "outputs": [
        {
          "output_type": "stream",
          "name": "stdout",
          "text": [
            "Finished while loop 1\n",
            "Finished while loop 2\n",
            "Finished while loop 3\n",
            "Finished while loop 4\n",
            "Finished while loop 5\n"
          ]
        }
      ]
    },
    {
      "cell_type": "markdown",
      "metadata": {
        "id": "F2VE5cStRDum"
      },
      "source": [
        "## Recoding Variables/Creating Features with `for/if`\n",
        "- Often we want to recode data applying some type of conditional statement to each value of a series, list, or column of a data frame.\n",
        "- [Regular Expressions](https://docs.python.org/3/howto/regex.html) can be useful in recoding"
      ]
    },
    {
      "cell_type": "code",
      "execution_count": null,
      "metadata": {
        "id": "BcaOJa3ZRDum",
        "outputId": "82363bb1-cb26-41ce-a3b1-c37e4608d367",
        "colab": {
          "base_uri": "https://localhost:8080/"
        }
      },
      "outputs": [
        {
          "output_type": "stream",
          "name": "stdout",
          "text": [
            "['Survived', 'Survived', 'Survived', 'Died', 'Died', 'Died']\n",
            "\n",
            " ['Survived', 'Survived', 'Survived', 'Died', 'Died', 'Died']\n"
          ]
        }
      ],
      "source": [
        "#Titanic Preview Women and Children first\n",
        "\n",
        "gender=['Female', 'Female','Female', 'Male', 'Male', 'Male' ]\n",
        "age=[75, 45, 15, 1, 45, 4 ]\n",
        "name = ['Sally White', 'Susanna Petrovsky', 'Samantha Russ', 'Finn Patrick', 'Johnny Cash', 'Pep Guardiola']\n",
        "survived=[]\n",
        "for i in range(len(gender)):\n",
        "#This is encoding a simple model that women survived.\n",
        "    if gender[i]=='Female':\n",
        "        survived.append('Survived')\n",
        "    else:\n",
        "        survived.append('Died')\n",
        "print(survived)\n",
        "\n",
        "# create a list that has survived if gender is female and died if otherwise using list comprehensions\n",
        "\n",
        "survived2 = [('Survived' if gender[i]=='Female' else 'Died') for i in range(len(gender))]\n",
        "print('\\n',survived2)"
      ]
    },
    {
      "cell_type": "code",
      "source": [
        "Young= []\n",
        "for i in range(len(age)):\n",
        "    if age[i]>=20:\n",
        "        Young.append('adult')\n",
        "    else:\n",
        "        Young.append('child')\n",
        "print(Young)"
      ],
      "metadata": {
        "colab": {
          "base_uri": "https://localhost:8080/"
        },
        "id": "5PTBsMpRTDdD",
        "outputId": "c0ef6a75-192e-43bd-d975-035b5fafcc74"
      },
      "execution_count": null,
      "outputs": [
        {
          "output_type": "stream",
          "name": "stdout",
          "text": [
            "['adult', 'adult', 'child', 'child', 'adult', 'child']\n"
          ]
        }
      ]
    },
    {
      "cell_type": "markdown",
      "source": [
        "### Let us now open a Text File that is in our computer."
      ],
      "metadata": {
        "id": "Qcoxe6rKHqKm"
      }
    },
    {
      "cell_type": "code",
      "source": [
        "f = open(\"myfile.txt\", \"w\", -1, \"utf-8\")"
      ],
      "metadata": {
        "id": "7E9kVZ3NgdCX"
      },
      "execution_count": null,
      "outputs": []
    },
    {
      "cell_type": "code",
      "source": [],
      "metadata": {
        "id": "A55zTlDJ_1n-"
      },
      "execution_count": null,
      "outputs": []
    },
    {
      "metadata": {
        "id": "kCchv9uQ_hRZ"
      },
      "cell_type": "markdown",
      "source": [
        "## Overview of Numpy\n",
        "\n",
        "- Numpy is a package that provides additional functionality often useful working with arrays for data science.\n",
        "- Typically Numpy is imported as `np`.\n",
        "- `np.array()` will cast a list (or other collection) as a numpy array.\n",
        "- You can slice an array in the same way yo can slice a list.\n"
      ]
    },
    {
      "metadata": {
        "id": "9kdAxrfl_hRb",
        "colab": {
          "base_uri": "https://localhost:8080/"
        },
        "outputId": "9f3a8b83-786f-4f89-d576-671c30095d7c"
      },
      "cell_type": "code",
      "source": [
        "import numpy as np\n",
        "a = np.array([0, 10, 22, 35, 47, 52, 69])\n",
        "print('Print the entire array:', a)\n",
        "print('Print the first value:', a[0])\n",
        "print('Print the first three value:', a[0:3])\n",
        "print('Print the last value of a numpy array:', a[-1])\n"
      ],
      "execution_count": null,
      "outputs": [
        {
          "output_type": "stream",
          "name": "stdout",
          "text": [
            "Print the entire array: [ 0 10 22 35 47 52 69]\n",
            "Print the first value: 0\n",
            "Print the first three value: [ 0 10 22]\n",
            "Print the last value of a numpy array: 69\n"
          ]
        }
      ]
    },
    {
      "metadata": {
        "id": "_2PE5VX-_hRj"
      },
      "cell_type": "markdown",
      "source": [
        "## Arrays and Functions\n",
        "- A really powerful aspect of arrays is the capability to do calculations over arrays.\n",
        "- Numpy has a number of functions possible listed [here](http://docs.scipy.org/doc/numpy/reference/routines.math.html).\n"
      ]
    },
    {
      "metadata": {
        "id": "RFdXPJVc_hRk",
        "colab": {
          "base_uri": "https://localhost:8080/"
        },
        "outputId": "fa3684ea-c439-4c2b-eb38-4cbf6f6b7c4b"
      },
      "cell_type": "code",
      "source": [
        "import numpy as np\n",
        "a = np.array([1, 2, 3, 4, 5, 6])\n",
        "b1=10*a\n",
        "b2=np.multiply(10,a)\n",
        "c=a+b1 # c2=np.add(a,b1) #This is an alternate way of adding\n",
        "d=np.log(a)\n",
        "e=np.sqrt(a)\n",
        "f=a**2  #This squares the value.\n",
        "\n",
        "np.square([-1j, 1])\n",
        "print('Print a:', a)\n",
        "print('Print b1:', b1)\n",
        "print('Print b2:', b2)\n",
        "print('Print c:', c1)\n",
        "print('Print d:', d)\n",
        "print('Print e:', e)\n",
        "print('Print f:', f)"
      ],
      "execution_count": null,
      "outputs": [
        {
          "output_type": "stream",
          "name": "stdout",
          "text": [
            "Print a: [1 2 3 4 5 6]\n",
            "Print b1: [10 20 30 40 50 60]\n",
            "Print b2: [10 20 30 40 50 60]\n",
            "Print c: [11 22 33 44 55 66]\n",
            "Print d: [0.         0.69314718 1.09861229 1.38629436 1.60943791 1.79175947]\n",
            "Print e: [1.         1.41421356 1.73205081 2.         2.23606798 2.44948974]\n",
            "Print f: [ 1  4  9 16 25 36]\n"
          ]
        }
      ]
    },
    {
      "metadata": {
        "id": "2_6zpEVC_hRo"
      },
      "cell_type": "markdown",
      "source": [
        "## Creating and Manipulating Numpy Arrays\n",
        "- The arrange function will generate an array.\n",
        "- Reshape changes the structure of the array to n rows and m columns.\n",
        "    `a=a.reshape(n, m)`\n",
        "-`ones` will create an array with all ones and `zeros` with all zeros.\n",
        "- Reshaping can get it in the appropriate structure, but make sure that the size fits the appropriate dimensions."
      ]
    },
    {
      "metadata": {
        "id": "CADzhCII_hRp",
        "colab": {
          "base_uri": "https://localhost:8080/"
        },
        "outputId": "7e930988-d009-4b13-8632-9a4ed63d5f01"
      },
      "cell_type": "code",
      "source": [
        "import numpy as np\n",
        "a = np.arange(15)\n",
        "print(a)\n",
        "a2 = np.arange( 0, 15, 1 ) #Alternate specification with np.arrange(start, end, step)\n",
        "print(a2)\n",
        "a=a.reshape(3, 5)\n",
        "print(a)\n",
        "b= np.ones(shape=(3, 5), dtype=float)\n",
        "print(b)\n",
        "c= np.zeros(shape=(3, 5), dtype=int)\n",
        "print('c', c)\n",
        "d= np.full((3, 5), 4, dtype=int)\n",
        "print('d', d)\n",
        "e= np.arange( 0, 1.5, .1 ).reshape(3,5)  #String together creations and reshaping. Also can use decimals.\n",
        "print(e)"
      ],
      "execution_count": null,
      "outputs": [
        {
          "output_type": "stream",
          "name": "stdout",
          "text": [
            "[ 0  1  2  3  4  5  6  7  8  9 10 11 12 13 14]\n",
            "[ 0  1  2  3  4  5  6  7  8  9 10 11 12 13 14]\n",
            "[[ 0  1  2  3  4]\n",
            " [ 5  6  7  8  9]\n",
            " [10 11 12 13 14]]\n",
            "[[1. 1. 1. 1. 1.]\n",
            " [1. 1. 1. 1. 1.]\n",
            " [1. 1. 1. 1. 1.]]\n",
            "c [[0 0 0 0 0]\n",
            " [0 0 0 0 0]\n",
            " [0 0 0 0 0]]\n",
            "d [[4 4 4 4 4]\n",
            " [4 4 4 4 4]\n",
            " [4 4 4 4 4]]\n",
            "[[0.  0.1 0.2 0.3 0.4]\n",
            " [0.5 0.6 0.7 0.8 0.9]\n",
            " [1.  1.1 1.2 1.3 1.4]]\n"
          ]
        }
      ]
    },
    {
      "metadata": {
        "id": "HH9MlXGG_hRr"
      },
      "cell_type": "code",
      "source": [
        "e= np.arange( 0, 1.5, .1 ).reshape(3,5)"
      ],
      "execution_count": null,
      "outputs": []
    },
    {
      "metadata": {
        "id": "W4FZippX_hRu"
      },
      "cell_type": "markdown",
      "source": [
        "## Generating Random Numpy Data\n",
        "- This is often useful, and we will be using it to demonstrate some initial techniques.\n",
        "- Often you want random but repeatable results, so that for example a test could have a consistent average on a random array. For this we need to set a seed. You only have to do this once.\n",
        "\n"
      ]
    },
    {
      "metadata": {
        "id": "H7kJvOUa_hRv",
        "colab": {
          "base_uri": "https://localhost:8080/"
        },
        "outputId": "aa82b450-dc08-4c88-af31-27c97cc4a413"
      },
      "cell_type": "code",
      "source": [
        "\n",
        "np.random.seed([2335])\n",
        "a = np.random.uniform(50, 150, 10)  #Between 50-150, generate 10 variables from uniform\n",
        "b = np.random.standard_normal(10)   #With mean 0 and standard deviation 1\n",
        "print(a)\n",
        "print(b)\n",
        "\n"
      ],
      "execution_count": null,
      "outputs": [
        {
          "output_type": "stream",
          "name": "stdout",
          "text": [
            "[109.46519698  50.85780228 145.64145344  78.97269151  92.70351313\n",
            "  52.40115672 100.85344015 136.72543799  97.50815861  65.22120624]\n",
            "[-0.78579231  0.47561356 -1.03844076  1.22334432 -2.21874131 -0.71922972\n",
            "  0.22159424 -1.00226326  0.07889796 -1.00275058]\n"
          ]
        }
      ]
    },
    {
      "metadata": {
        "id": "QTgwI3bH_hRz"
      },
      "cell_type": "markdown",
      "source": [
        "## Combining Numpy Arrays\n",
        "- `concatenate` will string a list of numpy arrays together `np.concatenate([a,b])`\n",
        "- `vstack` will stack numpy arrays\n",
        "- Defaults: start =0, end =last and step is 1.\n",
        "- To print the entire array, leave start/stop/step blank`a[::]`"
      ]
    },
    {
      "metadata": {
        "id": "L649dTr9_hR0",
        "colab": {
          "base_uri": "https://localhost:8080/"
        },
        "outputId": "6ddec4ae-0875-4328-f5c9-656e375bdd6a"
      },
      "cell_type": "code",
      "source": [
        "a = np.arange(5)\n",
        "b=np.concatenate([a,a])\n",
        "c=np.vstack([a,a])\n",
        "d=np.hstack([c,c])\n",
        "print('a:',a,'\\nb:',b,'\\nc:',c,'\\nd:',d)\n"
      ],
      "execution_count": null,
      "outputs": [
        {
          "output_type": "stream",
          "name": "stdout",
          "text": [
            "a: [0 1 2 3 4] \n",
            "b: [0 1 2 3 4 0 1 2 3 4] \n",
            "c: [[0 1 2 3 4]\n",
            " [0 1 2 3 4]] \n",
            "d: [[0 1 2 3 4 0 1 2 3 4]\n",
            " [0 1 2 3 4 0 1 2 3 4]]\n"
          ]
        }
      ]
    },
    {
      "metadata": {
        "id": "U197rHLc_hR6"
      },
      "cell_type": "markdown",
      "source": [
        "## Slicing Single Dimension Numpy Arrays\n",
        "- Slicing arrays includes  three numbers `a[start:stop:step]` but not all are required.\n",
        "- Defaults: start =0, end =last and step is 1.\n",
        "- To print the entire array, leave start/stop/step blank`a[::]`\n"
      ]
    },
    {
      "metadata": {
        "id": "dLzVeE37_hR7",
        "colab": {
          "base_uri": "https://localhost:8080/"
        },
        "outputId": "92c37fde-492f-40f9-ee34-a00efb1690d2"
      },
      "cell_type": "code",
      "source": [
        "e= np.arange( 0, 15, 1 )\n",
        "print(e)\n",
        "#[start:end:step]\n",
        "\n",
        "\n",
        "print(\"This is the start, end, and step:\",e[2:9:3])\n",
        "print(\"Print every other:\",e[::2])\n",
        "print(\"Print starting at 2 and ending at 9, default step 1:\",e[2:9])\n",
        "print(\"Print all:\",e[::])\n",
        "print(\"Print all:\",e[:])\n",
        "print(\"Print all:\",e)"
      ],
      "execution_count": null,
      "outputs": [
        {
          "output_type": "stream",
          "name": "stdout",
          "text": [
            "[ 0  1  2  3  4  5  6  7  8  9 10 11 12 13 14]\n",
            "This is the start, end, and step: [2 5 8]\n",
            "Print every other: [ 0  2  4  6  8 10 12 14]\n",
            "Print starting at 2 and ending at 9, default step 1: [2 3 4 5 6 7 8]\n",
            "Print all: [ 0  1  2  3  4  5  6  7  8  9 10 11 12 13 14]\n",
            "Print all: [ 0  1  2  3  4  5  6  7  8  9 10 11 12 13 14]\n",
            "Print all: [ 0  1  2  3  4  5  6  7  8  9 10 11 12 13 14]\n"
          ]
        }
      ]
    },
    {
      "metadata": {
        "id": "O_NtF7vm_hSA"
      },
      "cell_type": "markdown",
      "source": [
        "## Numpy Arrays From External Datasets\n",
        "- We can take a list from an external dataset and change it to an numpy array."
      ]
    },
    {
      "metadata": {
        "id": "1k6gEZz5_sej",
        "colab": {
          "base_uri": "https://localhost:8080/"
        },
        "outputId": "a3497cb0-320b-4fcb-ad9a-325e48275b77"
      },
      "cell_type": "code",
      "source": [
        "#First let's download some data.\n",
        "!wget https://raw.githubusercontent.com/rpi-techfundamentals/spring2019-materials/master/input/iris.csv"
      ],
      "execution_count": null,
      "outputs": [
        {
          "output_type": "stream",
          "name": "stdout",
          "text": [
            "--2025-01-30 22:32:26--  https://raw.githubusercontent.com/rpi-techfundamentals/spring2019-materials/master/input/iris.csv\n",
            "Resolving raw.githubusercontent.com (raw.githubusercontent.com)... 185.199.108.133, 185.199.109.133, 185.199.110.133, ...\n",
            "Connecting to raw.githubusercontent.com (raw.githubusercontent.com)|185.199.108.133|:443... connected.\n",
            "HTTP request sent, awaiting response... 200 OK\n",
            "Length: 3715 (3.6K) [text/plain]\n",
            "Saving to: ‘iris.csv’\n",
            "\n",
            "iris.csv            100%[===================>]   3.63K  --.-KB/s    in 0s      \n",
            "\n",
            "2025-01-30 22:32:26 (45.9 MB/s) - ‘iris.csv’ saved [3715/3715]\n",
            "\n"
          ]
        }
      ]
    },
    {
      "metadata": {
        "id": "PB_NE93d_hSD",
        "colab": {
          "base_uri": "https://localhost:8080/"
        },
        "outputId": "09d1a1e2-c2e2-44cf-9762-9ebe9c11858b"
      },
      "cell_type": "code",
      "source": [
        "import csv\n",
        "csv_file_object = csv.reader(open('iris.csv', newline=''), delimiter=',')\n",
        "\n",
        "data=[]\n",
        "header = next(csv_file_object) #\n",
        "for row in csv_file_object:\n",
        "    data.append(row)  # add each row to the\n",
        "data = np.array(data)\n",
        "# print(data)"
      ],
      "execution_count": null,
      "outputs": [
        {
          "output_type": "stream",
          "name": "stdout",
          "text": [
            "[['5.1' '3.5' '1.4' '0.2' 'setosa']\n",
            " ['4.9' '3' '1.4' '0.2' 'setosa']\n",
            " ['4.7' '3.2' '1.3' '0.2' 'setosa']\n",
            " ['4.6' '3.1' '1.5' '0.2' 'setosa']\n",
            " ['5' '3.6' '1.4' '0.2' 'setosa']\n",
            " ['5.4' '3.9' '1.7' '0.4' 'setosa']\n",
            " ['4.6' '3.4' '1.4' '0.3' 'setosa']\n",
            " ['5' '3.4' '1.5' '0.2' 'setosa']\n",
            " ['4.4' '2.9' '1.4' '0.2' 'setosa']\n",
            " ['4.9' '3.1' '1.5' '0.1' 'setosa']\n",
            " ['5.4' '3.7' '1.5' '0.2' 'setosa']\n",
            " ['4.8' '3.4' '1.6' '0.2' 'setosa']\n",
            " ['4.8' '3' '1.4' '0.1' 'setosa']\n",
            " ['4.3' '3' '1.1' '0.1' 'setosa']\n",
            " ['5.8' '4' '1.2' '0.2' 'setosa']\n",
            " ['5.7' '4.4' '1.5' '0.4' 'setosa']\n",
            " ['5.4' '3.9' '1.3' '0.4' 'setosa']\n",
            " ['5.1' '3.5' '1.4' '0.3' 'setosa']\n",
            " ['5.7' '3.8' '1.7' '0.3' 'setosa']\n",
            " ['5.1' '3.8' '1.5' '0.3' 'setosa']\n",
            " ['5.4' '3.4' '1.7' '0.2' 'setosa']\n",
            " ['5.1' '3.7' '1.5' '0.4' 'setosa']\n",
            " ['4.6' '3.6' '1' '0.2' 'setosa']\n",
            " ['5.1' '3.3' '1.7' '0.5' 'setosa']\n",
            " ['4.8' '3.4' '1.9' '0.2' 'setosa']\n",
            " ['5' '3' '1.6' '0.2' 'setosa']\n",
            " ['5' '3.4' '1.6' '0.4' 'setosa']\n",
            " ['5.2' '3.5' '1.5' '0.2' 'setosa']\n",
            " ['5.2' '3.4' '1.4' '0.2' 'setosa']\n",
            " ['4.7' '3.2' '1.6' '0.2' 'setosa']\n",
            " ['4.8' '3.1' '1.6' '0.2' 'setosa']\n",
            " ['5.4' '3.4' '1.5' '0.4' 'setosa']\n",
            " ['5.2' '4.1' '1.5' '0.1' 'setosa']\n",
            " ['5.5' '4.2' '1.4' '0.2' 'setosa']\n",
            " ['4.9' '3.1' '1.5' '0.1' 'setosa']\n",
            " ['5' '3.2' '1.2' '0.2' 'setosa']\n",
            " ['5.5' '3.5' '1.3' '0.2' 'setosa']\n",
            " ['4.9' '3.1' '1.5' '0.1' 'setosa']\n",
            " ['4.4' '3' '1.3' '0.2' 'setosa']\n",
            " ['5.1' '3.4' '1.5' '0.2' 'setosa']\n",
            " ['5' '3.5' '1.3' '0.3' 'setosa']\n",
            " ['4.5' '2.3' '1.3' '0.3' 'setosa']\n",
            " ['4.4' '3.2' '1.3' '0.2' 'setosa']\n",
            " ['5' '3.5' '1.6' '0.6' 'setosa']\n",
            " ['5.1' '3.8' '1.9' '0.4' 'setosa']\n",
            " ['4.8' '3' '1.4' '0.3' 'setosa']\n",
            " ['5.1' '3.8' '1.6' '0.2' 'setosa']\n",
            " ['4.6' '3.2' '1.4' '0.2' 'setosa']\n",
            " ['5.3' '3.7' '1.5' '0.2' 'setosa']\n",
            " ['5' '3.3' '1.4' '0.2' 'setosa']\n",
            " ['7' '3.2' '4.7' '1.4' 'versicolor']\n",
            " ['6.4' '3.2' '4.5' '1.5' 'versicolor']\n",
            " ['6.9' '3.1' '4.9' '1.5' 'versicolor']\n",
            " ['5.5' '2.3' '4' '1.3' 'versicolor']\n",
            " ['6.5' '2.8' '4.6' '1.5' 'versicolor']\n",
            " ['5.7' '2.8' '4.5' '1.3' 'versicolor']\n",
            " ['6.3' '3.3' '4.7' '1.6' 'versicolor']\n",
            " ['4.9' '2.4' '3.3' '1' 'versicolor']\n",
            " ['6.6' '2.9' '4.6' '1.3' 'versicolor']\n",
            " ['5.2' '2.7' '3.9' '1.4' 'versicolor']\n",
            " ['5' '2' '3.5' '1' 'versicolor']\n",
            " ['5.9' '3' '4.2' '1.5' 'versicolor']\n",
            " ['6' '2.2' '4' '1' 'versicolor']\n",
            " ['6.1' '2.9' '4.7' '1.4' 'versicolor']\n",
            " ['5.6' '2.9' '3.6' '1.3' 'versicolor']\n",
            " ['6.7' '3.1' '4.4' '1.4' 'versicolor']\n",
            " ['5.6' '3' '4.5' '1.5' 'versicolor']\n",
            " ['5.8' '2.7' '4.1' '1' 'versicolor']\n",
            " ['6.2' '2.2' '4.5' '1.5' 'versicolor']\n",
            " ['5.6' '2.5' '3.9' '1.1' 'versicolor']\n",
            " ['5.9' '3.2' '4.8' '1.8' 'versicolor']\n",
            " ['6.1' '2.8' '4' '1.3' 'versicolor']\n",
            " ['6.3' '2.5' '4.9' '1.5' 'versicolor']\n",
            " ['6.1' '2.8' '4.7' '1.2' 'versicolor']\n",
            " ['6.4' '2.9' '4.3' '1.3' 'versicolor']\n",
            " ['6.6' '3' '4.4' '1.4' 'versicolor']\n",
            " ['6.8' '2.8' '4.8' '1.4' 'versicolor']\n",
            " ['6.7' '3' '5' '1.7' 'versicolor']\n",
            " ['6' '2.9' '4.5' '1.5' 'versicolor']\n",
            " ['5.7' '2.6' '3.5' '1' 'versicolor']\n",
            " ['5.5' '2.4' '3.8' '1.1' 'versicolor']\n",
            " ['5.5' '2.4' '3.7' '1' 'versicolor']\n",
            " ['5.8' '2.7' '3.9' '1.2' 'versicolor']\n",
            " ['6' '2.7' '5.1' '1.6' 'versicolor']\n",
            " ['5.4' '3' '4.5' '1.5' 'versicolor']\n",
            " ['6' '3.4' '4.5' '1.6' 'versicolor']\n",
            " ['6.7' '3.1' '4.7' '1.5' 'versicolor']\n",
            " ['6.3' '2.3' '4.4' '1.3' 'versicolor']\n",
            " ['5.6' '3' '4.1' '1.3' 'versicolor']\n",
            " ['5.5' '2.5' '4' '1.3' 'versicolor']\n",
            " ['5.5' '2.6' '4.4' '1.2' 'versicolor']\n",
            " ['6.1' '3' '4.6' '1.4' 'versicolor']\n",
            " ['5.8' '2.6' '4' '1.2' 'versicolor']\n",
            " ['5' '2.3' '3.3' '1' 'versicolor']\n",
            " ['5.6' '2.7' '4.2' '1.3' 'versicolor']\n",
            " ['5.7' '3' '4.2' '1.2' 'versicolor']\n",
            " ['5.7' '2.9' '4.2' '1.3' 'versicolor']\n",
            " ['6.2' '2.9' '4.3' '1.3' 'versicolor']\n",
            " ['5.1' '2.5' '3' '1.1' 'versicolor']\n",
            " ['5.7' '2.8' '4.1' '1.3' 'versicolor']\n",
            " ['6.3' '3.3' '6' '2.5' 'virginica']\n",
            " ['5.8' '2.7' '5.1' '1.9' 'virginica']\n",
            " ['7.1' '3' '5.9' '2.1' 'virginica']\n",
            " ['6.3' '2.9' '5.6' '1.8' 'virginica']\n",
            " ['6.5' '3' '5.8' '2.2' 'virginica']\n",
            " ['7.6' '3' '6.6' '2.1' 'virginica']\n",
            " ['4.9' '2.5' '4.5' '1.7' 'virginica']\n",
            " ['7.3' '2.9' '6.3' '1.8' 'virginica']\n",
            " ['6.7' '2.5' '5.8' '1.8' 'virginica']\n",
            " ['7.2' '3.6' '6.1' '2.5' 'virginica']\n",
            " ['6.5' '3.2' '5.1' '2' 'virginica']\n",
            " ['6.4' '2.7' '5.3' '1.9' 'virginica']\n",
            " ['6.8' '3' '5.5' '2.1' 'virginica']\n",
            " ['5.7' '2.5' '5' '2' 'virginica']\n",
            " ['5.8' '2.8' '5.1' '2.4' 'virginica']\n",
            " ['6.4' '3.2' '5.3' '2.3' 'virginica']\n",
            " ['6.5' '3' '5.5' '1.8' 'virginica']\n",
            " ['7.7' '3.8' '6.7' '2.2' 'virginica']\n",
            " ['7.7' '2.6' '6.9' '2.3' 'virginica']\n",
            " ['6' '2.2' '5' '1.5' 'virginica']\n",
            " ['6.9' '3.2' '5.7' '2.3' 'virginica']\n",
            " ['5.6' '2.8' '4.9' '2' 'virginica']\n",
            " ['7.7' '2.8' '6.7' '2' 'virginica']\n",
            " ['6.3' '2.7' '4.9' '1.8' 'virginica']\n",
            " ['6.7' '3.3' '5.7' '2.1' 'virginica']\n",
            " ['7.2' '3.2' '6' '1.8' 'virginica']\n",
            " ['6.2' '2.8' '4.8' '1.8' 'virginica']\n",
            " ['6.1' '3' '4.9' '1.8' 'virginica']\n",
            " ['6.4' '2.8' '5.6' '2.1' 'virginica']\n",
            " ['7.2' '3' '5.8' '1.6' 'virginica']\n",
            " ['7.4' '2.8' '6.1' '1.9' 'virginica']\n",
            " ['7.9' '3.8' '6.4' '2' 'virginica']\n",
            " ['6.4' '2.8' '5.6' '2.2' 'virginica']\n",
            " ['6.3' '2.8' '5.1' '1.5' 'virginica']\n",
            " ['6.1' '2.6' '5.6' '1.4' 'virginica']\n",
            " ['7.7' '3' '6.1' '2.3' 'virginica']\n",
            " ['6.3' '3.4' '5.6' '2.4' 'virginica']\n",
            " ['6.4' '3.1' '5.5' '1.8' 'virginica']\n",
            " ['6' '3' '4.8' '1.8' 'virginica']\n",
            " ['6.9' '3.1' '5.4' '2.1' 'virginica']\n",
            " ['6.7' '3.1' '5.6' '2.4' 'virginica']\n",
            " ['6.9' '3.1' '5.1' '2.3' 'virginica']\n",
            " ['5.8' '2.7' '5.1' '1.9' 'virginica']\n",
            " ['6.8' '3.2' '5.9' '2.3' 'virginica']\n",
            " ['6.7' '3.3' '5.7' '2.5' 'virginica']\n",
            " ['6.7' '3' '5.2' '2.3' 'virginica']\n",
            " ['6.3' '2.5' '5' '1.9' 'virginica']\n",
            " ['6.5' '3' '5.2' '2' 'virginica']\n",
            " ['6.2' '3.4' '5.4' '2.3' 'virginica']\n",
            " ['5.9' '3' '5.1' '1.8' 'virginica']]\n"
          ]
        }
      ]
    },
    {
      "metadata": {
        "id": "i-PumliT_hSG"
      },
      "cell_type": "markdown",
      "source": [
        "## Slicing 2 Dimensional Numpy Arrays\n",
        "- We can slice arrays with `array[row, column]` were row and column each include the (start:stop:step) like in arrays\n",
        "- We can sepecify the type with the `.astype(np.float_)`\n",
        "- For a full list of Numpy types, see [documentation](http://docs.scipy.org/doc/numpy-1.10.1/user/basics.types.html)\n",
        "- If we create a one dimensional array from 2 dimensional numpy array, it will also be a numpy array of same type.\n"
      ]
    },
    {
      "metadata": {
        "id": "fPBzi-R7_hSI",
        "colab": {
          "base_uri": "https://localhost:8080/"
        },
        "collapsed": true,
        "outputId": "0e514709-3b70-4b80-b620-2805331c0fd3"
      },
      "cell_type": "code",
      "source": [
        "#We can slice the array several different ways and generate new variables.\n",
        "\n",
        "irisdata=data[0::,0:4:].astype(np.float_)  #This will select only the first 4 columns and change the type to float\n",
        "irisdata=data[:,0:4].astype(np.float_)\n",
        "iristype=data[0::,4:5:] # This will select only the type.\n",
        "print(irisdata,'\\n',iristype)"
      ],
      "execution_count": null,
      "outputs": [
        {
          "output_type": "stream",
          "name": "stdout",
          "text": [
            "[[5.1 3.5 1.4 0.2]\n",
            " [4.9 3.  1.4 0.2]\n",
            " [4.7 3.2 1.3 0.2]\n",
            " [4.6 3.1 1.5 0.2]\n",
            " [5.  3.6 1.4 0.2]\n",
            " [5.4 3.9 1.7 0.4]\n",
            " [4.6 3.4 1.4 0.3]\n",
            " [5.  3.4 1.5 0.2]\n",
            " [4.4 2.9 1.4 0.2]\n",
            " [4.9 3.1 1.5 0.1]\n",
            " [5.4 3.7 1.5 0.2]\n",
            " [4.8 3.4 1.6 0.2]\n",
            " [4.8 3.  1.4 0.1]\n",
            " [4.3 3.  1.1 0.1]\n",
            " [5.8 4.  1.2 0.2]\n",
            " [5.7 4.4 1.5 0.4]\n",
            " [5.4 3.9 1.3 0.4]\n",
            " [5.1 3.5 1.4 0.3]\n",
            " [5.7 3.8 1.7 0.3]\n",
            " [5.1 3.8 1.5 0.3]\n",
            " [5.4 3.4 1.7 0.2]\n",
            " [5.1 3.7 1.5 0.4]\n",
            " [4.6 3.6 1.  0.2]\n",
            " [5.1 3.3 1.7 0.5]\n",
            " [4.8 3.4 1.9 0.2]\n",
            " [5.  3.  1.6 0.2]\n",
            " [5.  3.4 1.6 0.4]\n",
            " [5.2 3.5 1.5 0.2]\n",
            " [5.2 3.4 1.4 0.2]\n",
            " [4.7 3.2 1.6 0.2]\n",
            " [4.8 3.1 1.6 0.2]\n",
            " [5.4 3.4 1.5 0.4]\n",
            " [5.2 4.1 1.5 0.1]\n",
            " [5.5 4.2 1.4 0.2]\n",
            " [4.9 3.1 1.5 0.1]\n",
            " [5.  3.2 1.2 0.2]\n",
            " [5.5 3.5 1.3 0.2]\n",
            " [4.9 3.1 1.5 0.1]\n",
            " [4.4 3.  1.3 0.2]\n",
            " [5.1 3.4 1.5 0.2]\n",
            " [5.  3.5 1.3 0.3]\n",
            " [4.5 2.3 1.3 0.3]\n",
            " [4.4 3.2 1.3 0.2]\n",
            " [5.  3.5 1.6 0.6]\n",
            " [5.1 3.8 1.9 0.4]\n",
            " [4.8 3.  1.4 0.3]\n",
            " [5.1 3.8 1.6 0.2]\n",
            " [4.6 3.2 1.4 0.2]\n",
            " [5.3 3.7 1.5 0.2]\n",
            " [5.  3.3 1.4 0.2]\n",
            " [7.  3.2 4.7 1.4]\n",
            " [6.4 3.2 4.5 1.5]\n",
            " [6.9 3.1 4.9 1.5]\n",
            " [5.5 2.3 4.  1.3]\n",
            " [6.5 2.8 4.6 1.5]\n",
            " [5.7 2.8 4.5 1.3]\n",
            " [6.3 3.3 4.7 1.6]\n",
            " [4.9 2.4 3.3 1. ]\n",
            " [6.6 2.9 4.6 1.3]\n",
            " [5.2 2.7 3.9 1.4]\n",
            " [5.  2.  3.5 1. ]\n",
            " [5.9 3.  4.2 1.5]\n",
            " [6.  2.2 4.  1. ]\n",
            " [6.1 2.9 4.7 1.4]\n",
            " [5.6 2.9 3.6 1.3]\n",
            " [6.7 3.1 4.4 1.4]\n",
            " [5.6 3.  4.5 1.5]\n",
            " [5.8 2.7 4.1 1. ]\n",
            " [6.2 2.2 4.5 1.5]\n",
            " [5.6 2.5 3.9 1.1]\n",
            " [5.9 3.2 4.8 1.8]\n",
            " [6.1 2.8 4.  1.3]\n",
            " [6.3 2.5 4.9 1.5]\n",
            " [6.1 2.8 4.7 1.2]\n",
            " [6.4 2.9 4.3 1.3]\n",
            " [6.6 3.  4.4 1.4]\n",
            " [6.8 2.8 4.8 1.4]\n",
            " [6.7 3.  5.  1.7]\n",
            " [6.  2.9 4.5 1.5]\n",
            " [5.7 2.6 3.5 1. ]\n",
            " [5.5 2.4 3.8 1.1]\n",
            " [5.5 2.4 3.7 1. ]\n",
            " [5.8 2.7 3.9 1.2]\n",
            " [6.  2.7 5.1 1.6]\n",
            " [5.4 3.  4.5 1.5]\n",
            " [6.  3.4 4.5 1.6]\n",
            " [6.7 3.1 4.7 1.5]\n",
            " [6.3 2.3 4.4 1.3]\n",
            " [5.6 3.  4.1 1.3]\n",
            " [5.5 2.5 4.  1.3]\n",
            " [5.5 2.6 4.4 1.2]\n",
            " [6.1 3.  4.6 1.4]\n",
            " [5.8 2.6 4.  1.2]\n",
            " [5.  2.3 3.3 1. ]\n",
            " [5.6 2.7 4.2 1.3]\n",
            " [5.7 3.  4.2 1.2]\n",
            " [5.7 2.9 4.2 1.3]\n",
            " [6.2 2.9 4.3 1.3]\n",
            " [5.1 2.5 3.  1.1]\n",
            " [5.7 2.8 4.1 1.3]\n",
            " [6.3 3.3 6.  2.5]\n",
            " [5.8 2.7 5.1 1.9]\n",
            " [7.1 3.  5.9 2.1]\n",
            " [6.3 2.9 5.6 1.8]\n",
            " [6.5 3.  5.8 2.2]\n",
            " [7.6 3.  6.6 2.1]\n",
            " [4.9 2.5 4.5 1.7]\n",
            " [7.3 2.9 6.3 1.8]\n",
            " [6.7 2.5 5.8 1.8]\n",
            " [7.2 3.6 6.1 2.5]\n",
            " [6.5 3.2 5.1 2. ]\n",
            " [6.4 2.7 5.3 1.9]\n",
            " [6.8 3.  5.5 2.1]\n",
            " [5.7 2.5 5.  2. ]\n",
            " [5.8 2.8 5.1 2.4]\n",
            " [6.4 3.2 5.3 2.3]\n",
            " [6.5 3.  5.5 1.8]\n",
            " [7.7 3.8 6.7 2.2]\n",
            " [7.7 2.6 6.9 2.3]\n",
            " [6.  2.2 5.  1.5]\n",
            " [6.9 3.2 5.7 2.3]\n",
            " [5.6 2.8 4.9 2. ]\n",
            " [7.7 2.8 6.7 2. ]\n",
            " [6.3 2.7 4.9 1.8]\n",
            " [6.7 3.3 5.7 2.1]\n",
            " [7.2 3.2 6.  1.8]\n",
            " [6.2 2.8 4.8 1.8]\n",
            " [6.1 3.  4.9 1.8]\n",
            " [6.4 2.8 5.6 2.1]\n",
            " [7.2 3.  5.8 1.6]\n",
            " [7.4 2.8 6.1 1.9]\n",
            " [7.9 3.8 6.4 2. ]\n",
            " [6.4 2.8 5.6 2.2]\n",
            " [6.3 2.8 5.1 1.5]\n",
            " [6.1 2.6 5.6 1.4]\n",
            " [7.7 3.  6.1 2.3]\n",
            " [6.3 3.4 5.6 2.4]\n",
            " [6.4 3.1 5.5 1.8]\n",
            " [6.  3.  4.8 1.8]\n",
            " [6.9 3.1 5.4 2.1]\n",
            " [6.7 3.1 5.6 2.4]\n",
            " [6.9 3.1 5.1 2.3]\n",
            " [5.8 2.7 5.1 1.9]\n",
            " [6.8 3.2 5.9 2.3]\n",
            " [6.7 3.3 5.7 2.5]\n",
            " [6.7 3.  5.2 2.3]\n",
            " [6.3 2.5 5.  1.9]\n",
            " [6.5 3.  5.2 2. ]\n",
            " [6.2 3.4 5.4 2.3]\n",
            " [5.9 3.  5.1 1.8]] \n",
            " [['setosa']\n",
            " ['setosa']\n",
            " ['setosa']\n",
            " ['setosa']\n",
            " ['setosa']\n",
            " ['setosa']\n",
            " ['setosa']\n",
            " ['setosa']\n",
            " ['setosa']\n",
            " ['setosa']\n",
            " ['setosa']\n",
            " ['setosa']\n",
            " ['setosa']\n",
            " ['setosa']\n",
            " ['setosa']\n",
            " ['setosa']\n",
            " ['setosa']\n",
            " ['setosa']\n",
            " ['setosa']\n",
            " ['setosa']\n",
            " ['setosa']\n",
            " ['setosa']\n",
            " ['setosa']\n",
            " ['setosa']\n",
            " ['setosa']\n",
            " ['setosa']\n",
            " ['setosa']\n",
            " ['setosa']\n",
            " ['setosa']\n",
            " ['setosa']\n",
            " ['setosa']\n",
            " ['setosa']\n",
            " ['setosa']\n",
            " ['setosa']\n",
            " ['setosa']\n",
            " ['setosa']\n",
            " ['setosa']\n",
            " ['setosa']\n",
            " ['setosa']\n",
            " ['setosa']\n",
            " ['setosa']\n",
            " ['setosa']\n",
            " ['setosa']\n",
            " ['setosa']\n",
            " ['setosa']\n",
            " ['setosa']\n",
            " ['setosa']\n",
            " ['setosa']\n",
            " ['setosa']\n",
            " ['setosa']\n",
            " ['versicolor']\n",
            " ['versicolor']\n",
            " ['versicolor']\n",
            " ['versicolor']\n",
            " ['versicolor']\n",
            " ['versicolor']\n",
            " ['versicolor']\n",
            " ['versicolor']\n",
            " ['versicolor']\n",
            " ['versicolor']\n",
            " ['versicolor']\n",
            " ['versicolor']\n",
            " ['versicolor']\n",
            " ['versicolor']\n",
            " ['versicolor']\n",
            " ['versicolor']\n",
            " ['versicolor']\n",
            " ['versicolor']\n",
            " ['versicolor']\n",
            " ['versicolor']\n",
            " ['versicolor']\n",
            " ['versicolor']\n",
            " ['versicolor']\n",
            " ['versicolor']\n",
            " ['versicolor']\n",
            " ['versicolor']\n",
            " ['versicolor']\n",
            " ['versicolor']\n",
            " ['versicolor']\n",
            " ['versicolor']\n",
            " ['versicolor']\n",
            " ['versicolor']\n",
            " ['versicolor']\n",
            " ['versicolor']\n",
            " ['versicolor']\n",
            " ['versicolor']\n",
            " ['versicolor']\n",
            " ['versicolor']\n",
            " ['versicolor']\n",
            " ['versicolor']\n",
            " ['versicolor']\n",
            " ['versicolor']\n",
            " ['versicolor']\n",
            " ['versicolor']\n",
            " ['versicolor']\n",
            " ['versicolor']\n",
            " ['versicolor']\n",
            " ['versicolor']\n",
            " ['versicolor']\n",
            " ['versicolor']\n",
            " ['virginica']\n",
            " ['virginica']\n",
            " ['virginica']\n",
            " ['virginica']\n",
            " ['virginica']\n",
            " ['virginica']\n",
            " ['virginica']\n",
            " ['virginica']\n",
            " ['virginica']\n",
            " ['virginica']\n",
            " ['virginica']\n",
            " ['virginica']\n",
            " ['virginica']\n",
            " ['virginica']\n",
            " ['virginica']\n",
            " ['virginica']\n",
            " ['virginica']\n",
            " ['virginica']\n",
            " ['virginica']\n",
            " ['virginica']\n",
            " ['virginica']\n",
            " ['virginica']\n",
            " ['virginica']\n",
            " ['virginica']\n",
            " ['virginica']\n",
            " ['virginica']\n",
            " ['virginica']\n",
            " ['virginica']\n",
            " ['virginica']\n",
            " ['virginica']\n",
            " ['virginica']\n",
            " ['virginica']\n",
            " ['virginica']\n",
            " ['virginica']\n",
            " ['virginica']\n",
            " ['virginica']\n",
            " ['virginica']\n",
            " ['virginica']\n",
            " ['virginica']\n",
            " ['virginica']\n",
            " ['virginica']\n",
            " ['virginica']\n",
            " ['virginica']\n",
            " ['virginica']\n",
            " ['virginica']\n",
            " ['virginica']\n",
            " ['virginica']\n",
            " ['virginica']\n",
            " ['virginica']\n",
            " ['virginica']]\n"
          ]
        }
      ]
    },
    {
      "cell_type": "code",
      "source": [
        "# get the first 20 columns and first 3 columns of data as string\n",
        "iristry=data[0:20,0:3].astype(np.str_)\n",
        "print(iristry)"
      ],
      "metadata": {
        "colab": {
          "base_uri": "https://localhost:8080/"
        },
        "id": "_JpbvSN4YyJF",
        "outputId": "7534eb7a-856c-49fb-edac-6ca2895bde62"
      },
      "execution_count": null,
      "outputs": [
        {
          "output_type": "stream",
          "name": "stdout",
          "text": [
            "[['5.1' '3.5' '1.4']\n",
            " ['4.9' '3' '1.4']\n",
            " ['4.7' '3.2' '1.3']\n",
            " ['4.6' '3.1' '1.5']\n",
            " ['5' '3.6' '1.4']\n",
            " ['5.4' '3.9' '1.7']\n",
            " ['4.6' '3.4' '1.4']\n",
            " ['5' '3.4' '1.5']\n",
            " ['4.4' '2.9' '1.4']\n",
            " ['4.9' '3.1' '1.5']\n",
            " ['5.4' '3.7' '1.5']\n",
            " ['4.8' '3.4' '1.6']\n",
            " ['4.8' '3' '1.4']\n",
            " ['4.3' '3' '1.1']\n",
            " ['5.8' '4' '1.2']\n",
            " ['5.7' '4.4' '1.5']\n",
            " ['5.4' '3.9' '1.3']\n",
            " ['5.1' '3.5' '1.4']\n",
            " ['5.7' '3.8' '1.7']\n",
            " ['5.1' '3.8' '1.5']]\n"
          ]
        }
      ]
    },
    {
      "cell_type": "code",
      "source": [
        "irisdata=data[0::,0:4:].astype(np.float_)\n",
        "print(irisdata)"
      ],
      "metadata": {
        "colab": {
          "base_uri": "https://localhost:8080/"
        },
        "id": "3sTUiB4oYPUP",
        "outputId": "f21e74d8-8c0a-4f71-ce81-092ea2efbad9"
      },
      "execution_count": null,
      "outputs": [
        {
          "output_type": "stream",
          "name": "stdout",
          "text": [
            "[[5.1 3.5 1.4 0.2]\n",
            " [4.9 3.  1.4 0.2]\n",
            " [4.7 3.2 1.3 0.2]\n",
            " [4.6 3.1 1.5 0.2]\n",
            " [5.  3.6 1.4 0.2]\n",
            " [5.4 3.9 1.7 0.4]\n",
            " [4.6 3.4 1.4 0.3]\n",
            " [5.  3.4 1.5 0.2]\n",
            " [4.4 2.9 1.4 0.2]\n",
            " [4.9 3.1 1.5 0.1]\n",
            " [5.4 3.7 1.5 0.2]\n",
            " [4.8 3.4 1.6 0.2]\n",
            " [4.8 3.  1.4 0.1]\n",
            " [4.3 3.  1.1 0.1]\n",
            " [5.8 4.  1.2 0.2]\n",
            " [5.7 4.4 1.5 0.4]\n",
            " [5.4 3.9 1.3 0.4]\n",
            " [5.1 3.5 1.4 0.3]\n",
            " [5.7 3.8 1.7 0.3]\n",
            " [5.1 3.8 1.5 0.3]\n",
            " [5.4 3.4 1.7 0.2]\n",
            " [5.1 3.7 1.5 0.4]\n",
            " [4.6 3.6 1.  0.2]\n",
            " [5.1 3.3 1.7 0.5]\n",
            " [4.8 3.4 1.9 0.2]\n",
            " [5.  3.  1.6 0.2]\n",
            " [5.  3.4 1.6 0.4]\n",
            " [5.2 3.5 1.5 0.2]\n",
            " [5.2 3.4 1.4 0.2]\n",
            " [4.7 3.2 1.6 0.2]\n",
            " [4.8 3.1 1.6 0.2]\n",
            " [5.4 3.4 1.5 0.4]\n",
            " [5.2 4.1 1.5 0.1]\n",
            " [5.5 4.2 1.4 0.2]\n",
            " [4.9 3.1 1.5 0.1]\n",
            " [5.  3.2 1.2 0.2]\n",
            " [5.5 3.5 1.3 0.2]\n",
            " [4.9 3.1 1.5 0.1]\n",
            " [4.4 3.  1.3 0.2]\n",
            " [5.1 3.4 1.5 0.2]\n",
            " [5.  3.5 1.3 0.3]\n",
            " [4.5 2.3 1.3 0.3]\n",
            " [4.4 3.2 1.3 0.2]\n",
            " [5.  3.5 1.6 0.6]\n",
            " [5.1 3.8 1.9 0.4]\n",
            " [4.8 3.  1.4 0.3]\n",
            " [5.1 3.8 1.6 0.2]\n",
            " [4.6 3.2 1.4 0.2]\n",
            " [5.3 3.7 1.5 0.2]\n",
            " [5.  3.3 1.4 0.2]\n",
            " [7.  3.2 4.7 1.4]\n",
            " [6.4 3.2 4.5 1.5]\n",
            " [6.9 3.1 4.9 1.5]\n",
            " [5.5 2.3 4.  1.3]\n",
            " [6.5 2.8 4.6 1.5]\n",
            " [5.7 2.8 4.5 1.3]\n",
            " [6.3 3.3 4.7 1.6]\n",
            " [4.9 2.4 3.3 1. ]\n",
            " [6.6 2.9 4.6 1.3]\n",
            " [5.2 2.7 3.9 1.4]\n",
            " [5.  2.  3.5 1. ]\n",
            " [5.9 3.  4.2 1.5]\n",
            " [6.  2.2 4.  1. ]\n",
            " [6.1 2.9 4.7 1.4]\n",
            " [5.6 2.9 3.6 1.3]\n",
            " [6.7 3.1 4.4 1.4]\n",
            " [5.6 3.  4.5 1.5]\n",
            " [5.8 2.7 4.1 1. ]\n",
            " [6.2 2.2 4.5 1.5]\n",
            " [5.6 2.5 3.9 1.1]\n",
            " [5.9 3.2 4.8 1.8]\n",
            " [6.1 2.8 4.  1.3]\n",
            " [6.3 2.5 4.9 1.5]\n",
            " [6.1 2.8 4.7 1.2]\n",
            " [6.4 2.9 4.3 1.3]\n",
            " [6.6 3.  4.4 1.4]\n",
            " [6.8 2.8 4.8 1.4]\n",
            " [6.7 3.  5.  1.7]\n",
            " [6.  2.9 4.5 1.5]\n",
            " [5.7 2.6 3.5 1. ]\n",
            " [5.5 2.4 3.8 1.1]\n",
            " [5.5 2.4 3.7 1. ]\n",
            " [5.8 2.7 3.9 1.2]\n",
            " [6.  2.7 5.1 1.6]\n",
            " [5.4 3.  4.5 1.5]\n",
            " [6.  3.4 4.5 1.6]\n",
            " [6.7 3.1 4.7 1.5]\n",
            " [6.3 2.3 4.4 1.3]\n",
            " [5.6 3.  4.1 1.3]\n",
            " [5.5 2.5 4.  1.3]\n",
            " [5.5 2.6 4.4 1.2]\n",
            " [6.1 3.  4.6 1.4]\n",
            " [5.8 2.6 4.  1.2]\n",
            " [5.  2.3 3.3 1. ]\n",
            " [5.6 2.7 4.2 1.3]\n",
            " [5.7 3.  4.2 1.2]\n",
            " [5.7 2.9 4.2 1.3]\n",
            " [6.2 2.9 4.3 1.3]\n",
            " [5.1 2.5 3.  1.1]\n",
            " [5.7 2.8 4.1 1.3]\n",
            " [6.3 3.3 6.  2.5]\n",
            " [5.8 2.7 5.1 1.9]\n",
            " [7.1 3.  5.9 2.1]\n",
            " [6.3 2.9 5.6 1.8]\n",
            " [6.5 3.  5.8 2.2]\n",
            " [7.6 3.  6.6 2.1]\n",
            " [4.9 2.5 4.5 1.7]\n",
            " [7.3 2.9 6.3 1.8]\n",
            " [6.7 2.5 5.8 1.8]\n",
            " [7.2 3.6 6.1 2.5]\n",
            " [6.5 3.2 5.1 2. ]\n",
            " [6.4 2.7 5.3 1.9]\n",
            " [6.8 3.  5.5 2.1]\n",
            " [5.7 2.5 5.  2. ]\n",
            " [5.8 2.8 5.1 2.4]\n",
            " [6.4 3.2 5.3 2.3]\n",
            " [6.5 3.  5.5 1.8]\n",
            " [7.7 3.8 6.7 2.2]\n",
            " [7.7 2.6 6.9 2.3]\n",
            " [6.  2.2 5.  1.5]\n",
            " [6.9 3.2 5.7 2.3]\n",
            " [5.6 2.8 4.9 2. ]\n",
            " [7.7 2.8 6.7 2. ]\n",
            " [6.3 2.7 4.9 1.8]\n",
            " [6.7 3.3 5.7 2.1]\n",
            " [7.2 3.2 6.  1.8]\n",
            " [6.2 2.8 4.8 1.8]\n",
            " [6.1 3.  4.9 1.8]\n",
            " [6.4 2.8 5.6 2.1]\n",
            " [7.2 3.  5.8 1.6]\n",
            " [7.4 2.8 6.1 1.9]\n",
            " [7.9 3.8 6.4 2. ]\n",
            " [6.4 2.8 5.6 2.2]\n",
            " [6.3 2.8 5.1 1.5]\n",
            " [6.1 2.6 5.6 1.4]\n",
            " [7.7 3.  6.1 2.3]\n",
            " [6.3 3.4 5.6 2.4]\n",
            " [6.4 3.1 5.5 1.8]\n",
            " [6.  3.  4.8 1.8]\n",
            " [6.9 3.1 5.4 2.1]\n",
            " [6.7 3.1 5.6 2.4]\n",
            " [6.9 3.1 5.1 2.3]\n",
            " [5.8 2.7 5.1 1.9]\n",
            " [6.8 3.2 5.9 2.3]\n",
            " [6.7 3.3 5.7 2.5]\n",
            " [6.7 3.  5.2 2.3]\n",
            " [6.3 2.5 5.  1.9]\n",
            " [6.5 3.  5.2 2. ]\n",
            " [6.2 3.4 5.4 2.3]\n",
            " [5.9 3.  5.1 1.8]]\n"
          ]
        }
      ]
    },
    {
      "metadata": {
        "id": "dq6ZEeFY_hSK",
        "colab": {
          "base_uri": "https://localhost:8080/"
        },
        "outputId": "9c15bfa1-2b53-4a21-c7f6-4a80ac675921"
      },
      "cell_type": "code",
      "source": [
        "#This can be used to select column 1 and assign to new variable.\n",
        "#This will sum up column 1\n",
        "newvariable=irisdata[::,0:1:]\n",
        "\n",
        "#This will sum up column 0\n",
        "final=irisdata[::,0:1:].sum()\n",
        "final2=irisdata[::,0:1:].sum()\n",
        "type(newvariable)\n",
        "#print(newvariable)\n",
        "print(final)\n",
        "print(final2)"
      ],
      "execution_count": null,
      "outputs": [
        {
          "output_type": "stream",
          "name": "stdout",
          "text": [
            "876.5\n",
            "876.5\n"
          ]
        }
      ]
    },
    {
      "metadata": {
        "id": "C8e3xNXx_hSN"
      },
      "cell_type": "code",
      "source": [
        "#This will take the mean of column 1\n",
        "print('mean:', irisdata[::,0:1:].mean())"
      ],
      "execution_count": null,
      "outputs": []
    },
    {
      "cell_type": "code",
      "source": [
        "print ('mean:', irisdata[::,0:1:].mean())\n",
        "irisdata[:,0:1].mean()"
      ],
      "metadata": {
        "id": "vqxxGidd_1p3",
        "colab": {
          "base_uri": "https://localhost:8080/"
        },
        "outputId": "bbfe96fc-f959-47f8-c573-c4286a495695"
      },
      "execution_count": null,
      "outputs": [
        {
          "output_type": "stream",
          "name": "stdout",
          "text": [
            "mean: 5.843333333333334\n"
          ]
        },
        {
          "output_type": "execute_result",
          "data": {
            "text/plain": [
              "5.843333333333334"
            ]
          },
          "metadata": {},
          "execution_count": 31
        }
      ]
    },
    {
      "cell_type": "code",
      "source": [
        "# mean of row 3\n",
        "print('mean:', irisdata[3:4,:].mean())\n"
      ],
      "metadata": {
        "id": "MA3zxxV0_1tf",
        "colab": {
          "base_uri": "https://localhost:8080/"
        },
        "outputId": "e277165c-fac3-492b-ccf2-c7d477a153d0"
      },
      "execution_count": null,
      "outputs": [
        {
          "output_type": "stream",
          "name": "stdout",
          "text": [
            "mean: 2.3499999999999996\n"
          ]
        }
      ]
    },
    {
      "cell_type": "code",
      "source": [],
      "metadata": {
        "id": "RRj-MJLFHKcZ"
      },
      "execution_count": null,
      "outputs": []
    },
    {
      "cell_type": "code",
      "source": [],
      "metadata": {
        "id": "HkLeve2N_1w4"
      },
      "execution_count": null,
      "outputs": []
    },
    {
      "cell_type": "code",
      "source": [
        "!pip install ucimlrepo\n",
        "from ucimlrepo import fetch_ucirepo\n",
        "\n",
        "# fetch dataset\n",
        "iris = fetch_ucirepo(id=53)\n",
        "\n",
        "# data (as pandas dataframes)\n",
        "X = iris.data.features\n",
        "y = iris.data.targets\n",
        "\n",
        "# metadata\n",
        "print(iris.metadata)\n",
        "\n",
        "# variable information\n",
        "print(iris.variables)\n"
      ],
      "metadata": {
        "colab": {
          "base_uri": "https://localhost:8080/"
        },
        "id": "R86bmAuG_1zk",
        "outputId": "159ba251-76e1-4321-84b1-320ad5c5e308"
      },
      "execution_count": null,
      "outputs": [
        {
          "output_type": "stream",
          "name": "stdout",
          "text": [
            "Collecting ucimlrepo\n",
            "  Downloading ucimlrepo-0.0.7-py3-none-any.whl.metadata (5.5 kB)\n",
            "Requirement already satisfied: pandas>=1.0.0 in /usr/local/lib/python3.11/dist-packages (from ucimlrepo) (2.2.2)\n",
            "Requirement already satisfied: certifi>=2020.12.5 in /usr/local/lib/python3.11/dist-packages (from ucimlrepo) (2024.12.14)\n",
            "Requirement already satisfied: numpy>=1.23.2 in /usr/local/lib/python3.11/dist-packages (from pandas>=1.0.0->ucimlrepo) (1.26.4)\n",
            "Requirement already satisfied: python-dateutil>=2.8.2 in /usr/local/lib/python3.11/dist-packages (from pandas>=1.0.0->ucimlrepo) (2.8.2)\n",
            "Requirement already satisfied: pytz>=2020.1 in /usr/local/lib/python3.11/dist-packages (from pandas>=1.0.0->ucimlrepo) (2024.2)\n",
            "Requirement already satisfied: tzdata>=2022.7 in /usr/local/lib/python3.11/dist-packages (from pandas>=1.0.0->ucimlrepo) (2025.1)\n",
            "Requirement already satisfied: six>=1.5 in /usr/local/lib/python3.11/dist-packages (from python-dateutil>=2.8.2->pandas>=1.0.0->ucimlrepo) (1.17.0)\n",
            "Downloading ucimlrepo-0.0.7-py3-none-any.whl (8.0 kB)\n",
            "Installing collected packages: ucimlrepo\n",
            "Successfully installed ucimlrepo-0.0.7\n",
            "{'uci_id': 53, 'name': 'Iris', 'repository_url': 'https://archive.ics.uci.edu/dataset/53/iris', 'data_url': 'https://archive.ics.uci.edu/static/public/53/data.csv', 'abstract': 'A small classic dataset from Fisher, 1936. One of the earliest known datasets used for evaluating classification methods.\\n', 'area': 'Biology', 'tasks': ['Classification'], 'characteristics': ['Tabular'], 'num_instances': 150, 'num_features': 4, 'feature_types': ['Real'], 'demographics': [], 'target_col': ['class'], 'index_col': None, 'has_missing_values': 'no', 'missing_values_symbol': None, 'year_of_dataset_creation': 1936, 'last_updated': 'Tue Sep 12 2023', 'dataset_doi': '10.24432/C56C76', 'creators': ['R. A. Fisher'], 'intro_paper': {'ID': 191, 'type': 'NATIVE', 'title': 'The Iris data set: In search of the source of virginica', 'authors': 'A. Unwin, K. Kleinman', 'venue': 'Significance, 2021', 'year': 2021, 'journal': 'Significance, 2021', 'DOI': '1740-9713.01589', 'URL': 'https://www.semanticscholar.org/paper/4599862ea877863669a6a8e63a3c707a787d5d7e', 'sha': None, 'corpus': None, 'arxiv': None, 'mag': None, 'acl': None, 'pmid': None, 'pmcid': None}, 'additional_info': {'summary': 'This is one of the earliest datasets used in the literature on classification methods and widely used in statistics and machine learning.  The data set contains 3 classes of 50 instances each, where each class refers to a type of iris plant.  One class is linearly separable from the other 2; the latter are not linearly separable from each other.\\n\\nPredicted attribute: class of iris plant.\\n\\nThis is an exceedingly simple domain.\\n\\nThis data differs from the data presented in Fishers article (identified by Steve Chadwick,  spchadwick@espeedaz.net ).  The 35th sample should be: 4.9,3.1,1.5,0.2,\"Iris-setosa\" where the error is in the fourth feature. The 38th sample: 4.9,3.6,1.4,0.1,\"Iris-setosa\" where the errors are in the second and third features.  ', 'purpose': 'N/A', 'funded_by': None, 'instances_represent': 'Each instance is a plant', 'recommended_data_splits': None, 'sensitive_data': None, 'preprocessing_description': None, 'variable_info': None, 'citation': None}}\n",
            "           name     role         type demographic  \\\n",
            "0  sepal length  Feature   Continuous        None   \n",
            "1   sepal width  Feature   Continuous        None   \n",
            "2  petal length  Feature   Continuous        None   \n",
            "3   petal width  Feature   Continuous        None   \n",
            "4         class   Target  Categorical        None   \n",
            "\n",
            "                                         description units missing_values  \n",
            "0                                               None    cm             no  \n",
            "1                                               None    cm             no  \n",
            "2                                               None    cm             no  \n",
            "3                                               None    cm             no  \n",
            "4  class of iris plant: Iris Setosa, Iris Versico...  None             no  \n"
          ]
        }
      ]
    },
    {
      "cell_type": "code",
      "source": [],
      "metadata": {
        "id": "bsBEkPnIHHZ4"
      },
      "execution_count": null,
      "outputs": []
    }
  ]
}