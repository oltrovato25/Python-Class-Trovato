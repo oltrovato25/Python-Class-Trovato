{
  "nbformat": 4,
  "nbformat_minor": 0,
  "metadata": {
    "colab": {
      "provenance": [],
      "include_colab_link": true
    },
    "kernelspec": {
      "name": "python3",
      "display_name": "Python 3"
    },
    "language_info": {
      "name": "python"
    }
  },
  "cells": [
    {
      "cell_type": "markdown",
      "metadata": {
        "id": "view-in-github",
        "colab_type": "text"
      },
      "source": [
        "<a href=\"https://colab.research.google.com/github/oltrovato25/Python-Class-Trovato/blob/main/Trovato_HW01.ipynb\" target=\"_parent\"><img src=\"https://colab.research.google.com/assets/colab-badge.svg\" alt=\"Open In Colab\"/></a>"
      ]
    },
    {
      "cell_type": "markdown",
      "source": [
        "# HW 01"
      ],
      "metadata": {
        "id": "JaguTAItuC48"
      }
    },
    {
      "cell_type": "markdown",
      "source": [
        "### Q1. Write a program to input your age and print whether you are more than or less than a billion seconds old."
      ],
      "metadata": {
        "id": "8N08oInsuN8g"
      }
    },
    {
      "cell_type": "code",
      "execution_count": null,
      "metadata": {
        "id": "KlPvWPxRuCVz",
        "outputId": "8c3ebf2c-51e5-42d0-cd33-18d90e7d2b82",
        "colab": {
          "base_uri": "https://localhost:8080/"
        }
      },
      "outputs": [
        {
          "output_type": "stream",
          "name": "stdout",
          "text": [
            "Enter your age in years: 21\n",
            "You are less than a billion seconds old!\n"
          ]
        }
      ],
      "source": [
        "## Enter answer here.\n",
        "\n",
        "billion_seconds_in_years = 1_000_000_000 / (60 * 60 * 24 * 365.25)\n",
        "\n",
        "age = float(input(\"Enter your age in years: \"))\n",
        "\n",
        "if age * 365.25 * 24 * 60 * 60 > 1_000_000_000:\n",
        "    print(\"You are more than a billion seconds old!\")\n",
        "else:\n",
        "    print(\"You are less than a billion seconds old!\")\n",
        "\n",
        "\n"
      ]
    },
    {
      "cell_type": "markdown",
      "source": [
        "### Q2. Create a list with 10 names. Print each name with a Good morning greeting with the name using a conditional loop.\n",
        "\n",
        "For example\n",
        "\n",
        "`name = ['Ashley', 'Brianna', 'Chetan', 'David', 'Eoin', 'Francois', 'Gemma', 'Hameed', 'Ishaan', 'Joanna']`\n",
        "\n",
        "Outputs will be 'Good morning, Ashley', 'Good morning, Brianna', and so on."
      ],
      "metadata": {
        "id": "X3IPYLTgvnDh"
      }
    },
    {
      "cell_type": "code",
      "source": [
        "## Enter answer here.\n",
        "\n",
        "names = [\"Olivia\", \"Hannah\", \"Rachel\", \"Morgan\", \"Emilee\", \"Taylor\", \"Brooke\", \"Ella\", \"Lauren\", \"Nana\"]\n",
        "\n",
        "for name in names:\n",
        "    print(f\"Good morning, {name}!\")\n"
      ],
      "metadata": {
        "id": "MFG2cvatvmr2",
        "outputId": "28fc2c0b-5c8d-49fb-9dbc-61096f7c242e",
        "colab": {
          "base_uri": "https://localhost:8080/"
        }
      },
      "execution_count": null,
      "outputs": [
        {
          "output_type": "stream",
          "name": "stdout",
          "text": [
            "Good morning, Olivia!\n",
            "Good morning, Hannah!\n",
            "Good morning, Rachel!\n",
            "Good morning, Morgan!\n",
            "Good morning, Emilee!\n",
            "Good morning, Taylor!\n",
            "Good morning, Brooke!\n",
            "Good morning, Ella!\n",
            "Good morning, Lauren!\n",
            "Good morning, Nana!\n"
          ]
        }
      ]
    },
    {
      "cell_type": "markdown",
      "source": [
        "### Q3. Create a list of 15 numbers. Print only those numbers that are divisible by 2."
      ],
      "metadata": {
        "id": "niM878Jrx1bf"
      }
    },
    {
      "cell_type": "code",
      "source": [
        "## Enter answer here.\n",
        "\n",
        "numbers = [3, 8, 15, 22, 34, 47, 56, 63, 72, 89, 90, 101, 112, 135, 150]\n",
        "\n",
        "for num in numbers:\n",
        "    if num % 2 == 0:\n",
        "        print(num)\n"
      ],
      "metadata": {
        "id": "m7XjkMn8uUY2",
        "colab": {
          "base_uri": "https://localhost:8080/"
        },
        "outputId": "1dc96035-997f-4dc2-f911-b42d0fdf7150"
      },
      "execution_count": 1,
      "outputs": [
        {
          "output_type": "stream",
          "name": "stdout",
          "text": [
            "8\n",
            "22\n",
            "34\n",
            "56\n",
            "72\n",
            "90\n",
            "112\n",
            "150\n"
          ]
        }
      ]
    },
    {
      "cell_type": "markdown",
      "source": [
        "### Q4. Print the squared numbers of a list containing at least 10 numbers with a mix of float, integer, and negative numbers. Use the longer method as well as list comprehension.\n",
        "\n",
        "You can either generate your own list of 10 numbers or find use a random number generator."
      ],
      "metadata": {
        "id": "u1kyA9ksy_JI"
      }
    },
    {
      "cell_type": "code",
      "source": [
        "## Enter answer here.\n",
        "\n",
        "nums = [0,-1.25,15.86,-25]\n",
        "method1_squares = []\n",
        "\n",
        "for i in nums:\n",
        "    method1_squares.append(i**2)\n",
        "\n",
        "print(method1_squares)\n",
        "\n",
        "## Now method 2\n",
        "\n",
        "numbers = [3, -7, 2.5, -4.2, 10, 5.5, -8, 6, -3.3, 9]\n",
        "\n",
        "for num in numbers:\n",
        "    squared = num ** 2\n",
        "    print(f\"The square of {num} is {squared}\")\n",
        "\n"
      ],
      "metadata": {
        "colab": {
          "base_uri": "https://localhost:8080/"
        },
        "id": "UFHMdDgEuUbD",
        "outputId": "a7a2fb08-a36d-4967-e72b-60eccb4bac5c"
      },
      "execution_count": 2,
      "outputs": [
        {
          "output_type": "stream",
          "name": "stdout",
          "text": [
            "[0, 1.5625, 251.53959999999998, 625]\n",
            "The square of 3 is 9\n",
            "The square of -7 is 49\n",
            "The square of 2.5 is 6.25\n",
            "The square of -4.2 is 17.64\n",
            "The square of 10 is 100\n",
            "The square of 5.5 is 30.25\n",
            "The square of -8 is 64\n",
            "The square of 6 is 36\n",
            "The square of -3.3 is 10.889999999999999\n",
            "The square of 9 is 81\n"
          ]
        }
      ]
    },
    {
      "cell_type": "markdown",
      "source": [
        "### Q5. Write a program to print a year if it is a leap year."
      ],
      "metadata": {
        "id": "0ZBlFovqA7G9"
      }
    },
    {
      "cell_type": "markdown",
      "source": [],
      "metadata": {
        "id": "OK1ctUfqA6mP"
      }
    },
    {
      "cell_type": "code",
      "source": [
        "year = int(input())\n",
        "\n",
        "if year%4 == 0:\n",
        "    print(year, \"is a leap year\")\n",
        "else:\n",
        "    print(year, \"is not a leap year\")"
      ],
      "metadata": {
        "id": "QwfOIh36uUeM",
        "colab": {
          "base_uri": "https://localhost:8080/"
        },
        "outputId": "a42a4a95-f178-4e71-a0a5-75be9f45aadf"
      },
      "execution_count": 3,
      "outputs": [
        {
          "output_type": "stream",
          "name": "stdout",
          "text": [
            "2003\n",
            "2003 is not a leap year\n"
          ]
        }
      ]
    },
    {
      "cell_type": "markdown",
      "source": [
        "### Q6. Use list comprensions to print all names in a list in upper case."
      ],
      "metadata": {
        "id": "_FRSvLlgArOJ"
      }
    },
    {
      "cell_type": "code",
      "source": [
        "\n",
        "names = [\"Olivia\", \"Rachel\", \"Hannah\", \"Emilee\", \"Morgan\"]\n",
        "\n",
        "uppercase_names = [name.upper() for name in names]\n",
        "\n",
        "for name in uppercase_names:\n",
        "    print(name)\n"
      ],
      "metadata": {
        "id": "CwPIZcFQuUhD",
        "colab": {
          "base_uri": "https://localhost:8080/"
        },
        "outputId": "fff9e20f-2014-4313-8d8f-b1131215b56d"
      },
      "execution_count": 4,
      "outputs": [
        {
          "output_type": "stream",
          "name": "stdout",
          "text": [
            "OLIVIA\n",
            "RACHEL\n",
            "HANNAH\n",
            "EMILEE\n",
            "MORGAN\n"
          ]
        }
      ]
    },
    {
      "cell_type": "markdown",
      "source": [
        "### Q7. Question on NUMPY arrays:\n",
        "\n",
        "a. Create a numpy array called `original` with 100 random numbers. What is the largest number, smallest number, max, min, median, and standard deviation of your array? Print them.\n",
        "\n",
        "HINT: use `np.random.uniform()`. Check online for the correct syntax. `np.random.rand(100)` will give you 100 random numbers of uniform distribution with mean 0 and standard deviation of 1, while we want a mix of larger numbers/integers.\n",
        "\n",
        "b. Now create an array called `orig_sqrt` which contains the square roots of the numbers in the original array.\n",
        "\n",
        "### Q8.  Converting 1D arrays into 2D arrays.\n",
        "\n",
        "a. Convert your original array of 100 random numbers into a 2-dimensional array called `mat_array` with 20 rows and 5 columns. Print this array.\n",
        "\n",
        "b. What is the mean of every column in `mat_array`?\n",
        "\n",
        "c. What is the sum of every row? Create a list of 20 elements that contains the sum of every row in `mat_array`.\n",
        "\n",
        "d. Create the transpose of `mat_array` and call it `transpose_array`. What are the dimensions of this array now? Again, find the mean of each column and the sum of each row.\n",
        "\n",
        "### Q9. Array slicing:\n",
        "\n",
        "a. create a new array which contains the 3rd-10th rows and all columns of `mat_array`. Print.\n",
        "\n",
        "b. Print a new array which contains the the last 5 rows and the last 2 columns of `mat_array`. What is the dimension of this array?\n",
        "\n",
        "c. Print a new array which contains the first 3 rows and last 10 columns of `transpose_array`."
      ],
      "metadata": {
        "id": "ulp3oxOZHt5r"
      }
    },
    {
      "cell_type": "code",
      "source": [
        "# Write your answer here. Feel free to break your answer into different blocks of code rather than using just this one cell. Label your answer neatly.\n",
        "import numpy as np\n",
        "\n"
      ],
      "metadata": {
        "id": "M6EBbfr7Iaas"
      },
      "execution_count": 7,
      "outputs": []
    },
    {
      "cell_type": "code",
      "source": [
        "import numpy as np\n",
        "\n",
        "original = np.random.uniform(low=1, high=1000, size=100)\n",
        "\n",
        "largest_number = np.max(original)\n",
        "smallest_number = np.min(original)\n",
        "max_value = np.max(original)\n",
        "min_value = np.min(original)\n",
        "median_value = np.median(original)\n",
        "std_deviation = np.std(original)\n",
        "\n",
        "print(f\"Largest number: {largest_number}\")\n",
        "print(f\"Smallest number: {smallest_number}\")\n",
        "print(f\"Max value: {max_value}\")\n",
        "print(f\"Min value: {min_value}\")\n",
        "print(f\"Median value: {median_value}\")\n",
        "print(f\"Standard deviation: {std_deviation}\")\n",
        "\n",
        "orig_sqrt = np.sqrt(original)\n",
        "\n",
        "print(\"\\nSquare roots of the original array:\")\n",
        "print(orig_sqrt)\n"
      ],
      "metadata": {
        "id": "lJWRxuplJ1R-",
        "colab": {
          "base_uri": "https://localhost:8080/"
        },
        "outputId": "57d8b83d-5b52-467a-bc69-fc90d57a9266"
      },
      "execution_count": 8,
      "outputs": [
        {
          "output_type": "stream",
          "name": "stdout",
          "text": [
            "Largest number: 996.5929822919285\n",
            "Smallest number: 15.313642795080508\n",
            "Max value: 996.5929822919285\n",
            "Min value: 15.313642795080508\n",
            "Median value: 465.14890352061025\n",
            "Standard deviation: 292.255858931869\n",
            "\n",
            "Square roots of the original array:\n",
            "[ 9.20923465 23.42871691  7.37486679 17.80358326 15.42870766 14.39206894\n",
            " 28.51961221 10.8778343  12.22411135 31.26892947 15.74322888 29.86122572\n",
            " 29.59459169 23.75769221 14.89224816 27.60282448 30.91664871 29.10034279\n",
            " 20.05270931 31.25314828 19.58609525 23.58553012 19.09349195 11.91094779\n",
            "  4.45475794 24.18480262 27.84252588 17.59957351 16.08515228  5.22633446\n",
            " 22.62675155  9.98038238 20.30205208 27.35345651 10.48994376 31.56886096\n",
            " 18.8485381  23.68189583 10.41698645 27.66348644 11.73375243  9.9052662\n",
            " 21.83307449 23.32268219 29.31700913 21.76595719 21.36681807 30.30710736\n",
            " 20.34263243 19.20902444 17.11188559 24.46116115 24.35998877 28.3141625\n",
            " 27.81568343 13.56102971 23.57222484 30.83138848 27.0343554  16.91078681\n",
            " 25.62152473 29.75661827 19.70817584 29.83081448 17.02808465 26.53594153\n",
            " 26.00773401 18.40858072  3.91326498 22.20733153  8.27636731 16.35657677\n",
            "  5.33524173 24.50534227 31.26956058 16.5186106  10.73745492  4.09975486\n",
            " 26.42541759 27.4421265  31.3661163  16.39384452 20.45063066 28.13655953\n",
            " 28.38563275 19.5034923  30.98558371 28.32679027 18.56590422 17.69591885\n",
            " 24.3486092  23.12206107 17.8303434  28.53864584 19.79663433 27.38897347\n",
            " 10.61848264 27.89753976 17.84159483 12.61931589]\n"
          ]
        }
      ]
    },
    {
      "cell_type": "code",
      "source": [
        "import numpy as np\n",
        "\n",
        "original = np.random.uniform(low=1, high=1000, size=100)\n",
        "mat_array = original.reshape(20, 5)\n",
        "\n",
        "print(\"Original 2D Array (20 rows, 5 columns):\")\n",
        "print(mat_array)\n",
        "\n",
        "column_means = np.mean(mat_array, axis=0)\n",
        "print(\"\\nMean of each column in mat_array:\")\n",
        "print(column_means)\n",
        "\n",
        "row_sums = np.sum(mat_array, axis=1)\n",
        "print(\"\\nSum of every row in mat_array:\")\n",
        "print(row_sums)\n",
        "\n",
        "transpose_array = mat_array.T\n",
        "\n",
        "print(f\"\\nDimensions of the transpose array: {transpose_array.shape}\")\n",
        "\n",
        "transpose_column_means = np.mean(transpose_array, axis=0)\n",
        "print(\"\\nMean of each column in the transposed array:\")\n",
        "print(transpose_column_means)\n",
        "\n",
        "transpose_row_sums = np.sum(transpose_array, axis=1)\n",
        "print(\"\\nSum of every row in the transposed array:\")\n",
        "print(transpose_row_sums)\n"
      ],
      "metadata": {
        "id": "FDYDgwc1Lyy1",
        "colab": {
          "base_uri": "https://localhost:8080/"
        },
        "outputId": "9a233d19-19f9-4f13-f06c-c8f2449cee3f"
      },
      "execution_count": 6,
      "outputs": [
        {
          "output_type": "stream",
          "name": "stdout",
          "text": [
            "Original 2D Array (20 rows, 5 columns):\n",
            "[[675.53667425 305.86537554 617.95396828 928.39406465 837.99697053]\n",
            " [483.2082109  211.85050324 610.95254589  95.71764067 967.05208973]\n",
            " [151.32824601 319.69305016 577.54179786 365.60476021   3.7902352 ]\n",
            " [114.06854342 692.98886898 400.40815436  59.49525486 763.12274667]\n",
            " [482.19897982  56.61172859 481.49630825 294.35495464 700.47089547]\n",
            " [569.32228955 154.29528494 235.28383094 675.59335426 842.81286801]\n",
            " [308.25013927 508.43323156 835.06726018 973.37957661 978.21296674]\n",
            " [476.45362854 245.66960024 108.60363837 855.68037368 812.40817541]\n",
            " [217.21697441 875.88482618 279.17230674 793.89098081 206.97531656]\n",
            " [600.03525279 806.01973358 341.65611071 674.64857093 253.95234763]\n",
            " [ 87.79674866 991.67084063 434.787915   183.35405665 290.05601548]\n",
            " [752.76776709 398.56939325 261.97014982 700.16664358 971.80394938]\n",
            " [832.1188974  422.27682317 116.72854505 976.60692228 140.88674025]\n",
            " [975.68117482 177.17359472 885.6432155  523.75626728 721.7813317 ]\n",
            " [621.27623486 925.8669106  687.67336581 356.56697001 823.59192998]\n",
            " [ 77.59382246 541.48268517 827.43029647 654.76063685 714.65999772]\n",
            " [807.44309987 360.3081861  301.92228671 333.10008381 366.30079801]\n",
            " [841.10616751 667.99951367 111.00497891 498.99233063  20.5854462 ]\n",
            " [361.40562923 451.46715744  80.05895088 600.69139335 638.32248519]\n",
            " [108.36862665  15.86491328 176.13122541 629.43961225 588.27226861]]\n",
            "\n",
            "Mean of each column in mat_array:\n",
            "[477.15885538 456.49961105 418.57434256 558.7097224  582.15277872]\n",
            "\n",
            "Sum of every row in mat_array:\n",
            "[3365.74705326 2368.78099042 1417.95808944 2030.08356829 2015.13286677\n",
            " 2477.30762769 3603.34317437 2498.81541624 2373.14040471 2676.31201564\n",
            " 1987.66557642 3085.27790311 2488.61792815 3284.03558403 3414.97541125\n",
            " 2815.92743868 2169.0744545  2139.68843692 2131.9456161  1518.0766462 ]\n",
            "\n",
            "Dimensions of the transpose array: (5, 20)\n",
            "\n",
            "Mean of each column in the transposed array:\n",
            "[673.14941065 473.75619808 283.59161789 406.01671366 403.02657335\n",
            " 495.46152554 720.66863487 499.76308325 474.62808094 535.26240313\n",
            " 397.53311528 617.05558062 497.72358563 656.80711681 682.99508225\n",
            " 563.18548774 433.8148909  427.93768738 426.38912322 303.61532924]\n",
            "\n",
            "Sum of every row in the transposed array:\n",
            "[ 9543.17710753  9129.99222104  8371.48685113 11174.19444804\n",
            " 11643.05557445]\n"
          ]
        }
      ]
    },
    {
      "cell_type": "code",
      "source": [
        "import numpy as np\n",
        "\n",
        "original = np.random.uniform(low=1, high=1000, size=100)\n",
        "mat_array = original.reshape(20, 5)\n",
        "transpose_array = mat_array.T\n",
        "\n",
        "sub_array_a = mat_array[2:10, :]\n",
        "print(\"Sub-array containing rows 3 to 10 and all columns of mat_array:\")\n",
        "print(sub_array_a)\n",
        "\n",
        "sub_array_b = mat_array[-5:, -2:]\n",
        "print(\"\\nSub-array containing the last 5 rows and last 2 columns of mat_array:\")\n",
        "print(sub_array_b)\n",
        "\n",
        "print(f\"Dimensions of the array in b: {sub_array_b.shape}\")\n",
        "\n",
        "sub_array_c = transpose_array[:3, -10:]\n",
        "print(\"\\nSub-array containing the first 3 rows and last 10 columns of transpose_array:\")\n",
        "print(sub_array_c)\n"
      ],
      "metadata": {
        "id": "vyV9N3jpLyqP",
        "colab": {
          "base_uri": "https://localhost:8080/"
        },
        "outputId": "24075f8e-718d-4180-a6da-4d848cc2eb0e"
      },
      "execution_count": 9,
      "outputs": [
        {
          "output_type": "stream",
          "name": "stdout",
          "text": [
            "Sub-array containing rows 3 to 10 and all columns of mat_array:\n",
            "[[ 20.36183612 496.83348247 523.64180954 305.85231161 887.95708546]\n",
            " [266.53829781 414.21721896 637.21783933 866.75280149 924.20784135]\n",
            " [161.20985816 196.27392463 453.1835912   92.76137549 455.72432069]\n",
            " [880.59754979 610.74769904 174.83763738 810.44691351 671.36223577]\n",
            " [ 84.64997333 899.40475569 648.48334021 285.09235161 121.87174671]\n",
            " [ 89.13966564 803.99426513 390.57960438 715.5279213  903.64803136]\n",
            " [141.73842643 122.5855563  837.1618317  706.52630788 137.24527138]\n",
            " [ 60.00778441 847.44726673  77.44423139 300.96531763 269.48118619]]\n",
            "\n",
            "Sub-array containing the last 5 rows and last 2 columns of mat_array:\n",
            "[[201.43655673 351.29872224]\n",
            " [538.73574853 112.35862383]\n",
            " [702.0349111  371.50061732]\n",
            " [805.39451412 614.20407214]\n",
            " [905.5550983  684.55404401]]\n",
            "Dimensions of the array in b: (5, 2)\n",
            "\n",
            "Sub-array containing the first 3 rows and last 10 columns of transpose_array:\n",
            "[[576.21133979 272.92341693  83.27686002 770.52373391 791.92998176\n",
            "  853.47467689 365.77581918 468.48669245  75.1069441  664.26884031]\n",
            " [376.23855429 575.88698245 928.98503136 840.44251299 763.69181856\n",
            "  664.13801888  43.03559578 803.93619376 210.60510507 173.53384034]\n",
            " [762.459936   532.44149559 980.935478   421.41153254 414.1222726\n",
            "  149.80500068 372.73496696 957.64005958 404.2491113  361.66616876]]\n"
          ]
        }
      ]
    },
    {
      "cell_type": "code",
      "source": [],
      "metadata": {
        "id": "at-4INjLLyei"
      },
      "execution_count": null,
      "outputs": []
    },
    {
      "cell_type": "markdown",
      "source": [
        "### Q10. Assume you are inviting 15 friends to your party. You guest list has the following dietary preference.\n",
        "\n",
        "`diet = ['vegetarian', 'pescetarian', 'vegetarian', 'omnivore', 'pescetarian', 'keto', 'keto', 'vegan', 'omnivore', 'omnivore', 'vegan', 'omnivore', 'keto, 'vegetarian', 'vegan']`\n",
        "\n",
        "Their ages are as follows:\n",
        "\n",
        "`age = [21, 20, 19, 25, 27, 18, 23, 25, 19, 22, 20, 20, 23, 21, 24]`\n",
        "\n",
        "Create a list called `menu` which will contain 'veg. fried rice with whiskey' for vegans and vegetarians aged 21 and above,  'veg. fried rice with mocktail' for vegans and vegetarians aged below 21. Follow the same logic and assign fish and white wine to pescetarians of legal age (and fish with mocktail to those below 21). Keto and omnivore guests above 21 will have 'steak and red wine'. Complete the series with the appropriate drink for underage guests."
      ],
      "metadata": {
        "id": "cIhCARNRLzKy"
      }
    },
    {
      "cell_type": "code",
      "source": [
        "# Write your answer here.\n",
        "import numpy as np\n",
        "\n",
        "diet = ['vegetarian', 'pescetarian', 'vegetarian', 'omnivore', 'pescetarian', 'keto', 'keto', 'vegan', 'omnivore', 'omnivore', 'vegan', 'omnivore', 'keto', 'vegetarian', 'vegan']\n",
        "age = [21, 20, 19, 25, 27, 18, 23, 25, 19, 22, 20, 20, 23, 21, 24]\n",
        "\n",
        "menu = []\n",
        "\n",
        "for i in range(len(diet)):\n",
        "    if diet[i] == 'vegetarian' or diet[i] == 'vegan':\n",
        "        if age[i] >= 21:\n",
        "            menu.append('veg. fried rice with whiskey')\n",
        "        else:\n",
        "            menu.append('veg. fried rice with mocktail')\n",
        "    elif diet[i] == 'pescetarian':\n",
        "        if age[i] >= 21:\n",
        "            menu.append('fish and white wine')\n",
        "        else:\n",
        "            menu.append('fish with mocktail')\n",
        "    elif diet[i] == 'keto' or diet[i] == 'omnivore':\n",
        "        if age[i] >= 21:\n",
        "            menu.append('steak and red wine')\n",
        "        else:\n",
        "            menu.append('steak with mocktail')\n",
        "\n",
        "print(\"Menu for your guests:\")\n",
        "for i, dish in enumerate(menu):\n",
        "    print(f\"Guest {i+1} (Age {age[i]}): {dish}\")\n",
        "\n"
      ],
      "metadata": {
        "id": "P7Xuiz6JOR5_",
        "colab": {
          "base_uri": "https://localhost:8080/"
        },
        "outputId": "52fe8bb5-4cd0-4009-dd0b-63cec3decd15"
      },
      "execution_count": 10,
      "outputs": [
        {
          "output_type": "stream",
          "name": "stdout",
          "text": [
            "Menu for your guests:\n",
            "Guest 1 (Age 21): veg. fried rice with whiskey\n",
            "Guest 2 (Age 20): fish with mocktail\n",
            "Guest 3 (Age 19): veg. fried rice with mocktail\n",
            "Guest 4 (Age 25): steak and red wine\n",
            "Guest 5 (Age 27): fish and white wine\n",
            "Guest 6 (Age 18): steak with mocktail\n",
            "Guest 7 (Age 23): steak and red wine\n",
            "Guest 8 (Age 25): veg. fried rice with whiskey\n",
            "Guest 9 (Age 19): steak with mocktail\n",
            "Guest 10 (Age 22): steak and red wine\n",
            "Guest 11 (Age 20): veg. fried rice with mocktail\n",
            "Guest 12 (Age 20): steak with mocktail\n",
            "Guest 13 (Age 23): steak and red wine\n",
            "Guest 14 (Age 21): veg. fried rice with whiskey\n",
            "Guest 15 (Age 24): veg. fried rice with whiskey\n"
          ]
        }
      ]
    }
  ]
}